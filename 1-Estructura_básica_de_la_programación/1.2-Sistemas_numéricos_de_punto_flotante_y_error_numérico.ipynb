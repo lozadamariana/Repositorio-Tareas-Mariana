{
 "cells": [
  {
   "cell_type": "markdown",
   "id": "e2bf4a73",
   "metadata": {},
   "source": [
    "# Sistemas numéricos de punto flotante y error numérico\n",
    "\n",
    "En este _notebook_, veremos cómo una computadora almacena números con decimales no nulos para realizar cálculos con ellos, y qué consecuencias conlleva.\n",
    "\n",
    "## Sistemas numéricos\n",
    "\n",
    "En matemáticas, tenemos varias formas de representar un número. Por ejemplo, las expresiones\n",
    "\n",
    "$$ \\frac{17}{17}, \\quad 1.0\\times 10^0, \\quad 0.\\overline{999}, \\quad \\lim_{x\\to -1} x^2, \\quad \\sum_{n=1}^\\infty \\frac{1}{(n(n+1))}, \\quad -e^{i\\pi}, \\quad \\text{etcétera}$$\n",
    "\n",
    "representan al número 1. Sin embargo, al momento de hacer cálculos numéricos resulta óptimo fijar **una** forma de representar a **todos** los números con los que queremos trabajar, lo que se conoce como un _sistema numérico_, y procurar que éste sea ventajoso para el tipo de cálculos que queremos hacer.\n",
    "\n",
    "En muchas ramas científicas es necesario poder manipular números reales (i.e., elementos de $\\mathbb{R}$), por lo que sería ideal tener un sistema para representarlos de manera fiel (es decir, sin pérdida de información) y eficiente. Actualmente, la mejor forma que tenemos de hacerlo es a través de un _sistema numérico de punto flotante_ pero, como veremos, no es perfecto."
   ]
  },
  {
   "cell_type": "markdown",
   "id": "f4c44a9a",
   "metadata": {},
   "source": [
    "## Sistemas numéricos de punto flotante\n",
    "\n",
    "Un **sistema numérico de punto flotante** es aquel en donde cada número se expresa como un número _entero_ multiplicado por una potencia _entera_ de alguna base _entera_ fija. De esta forma, podemos expresar a _cualquier_ número real como una tercia de números enteros; al primero de los enteros se le llama _significando_, al segundo, _exponente_ y al tercero, _base_. Por ejemplo, si consideramos al sistema de base diez y al número $5.98$, de la ecuación\n",
    "\n",
    "$$5.98 \\ \\ = \\underbrace{598}_{\\text{significando}} \\times {\\underbrace{10}_{\\text{base}}}^{\\hspace{-3mm}\\overbrace{-2}^{\\text{exponente}}}$$\n",
    "\n",
    "se sigue que podemos expresar a este número como la tercia de enteros $(598,-2,10)$."
   ]
  },
  {
   "cell_type": "markdown",
   "id": "cb3f0646",
   "metadata": {},
   "source": [
    "El nombre de **punto flotante** hace referencia al hecho de que, dada una base fija y cualquier número expresado a través de su significando y su exponente, _cualquier cambio en el exponente \"recorrerá\" al punto decimal_ a lo largo del significando, resultando en un número distinto.\n",
    "\n",
    "<img src=\"../misc/punto_flotante.gif\" style=\"height: 340px;\"/>"
   ]
  },
  {
   "cell_type": "markdown",
   "id": "ebafb41a",
   "metadata": {},
   "source": [
    "**Nota** A pesar de que en el ejemplo anterior se haya utilizado un sistema de base 10 (por cuestiones didácticas), el sistema numérico de punto flotante implementado en las computadoras convencionales es de **base 2** puesto que, a nivél físico (i.e., de transistores y circuitos), éstas trabajan usando valores binarios."
   ]
  },
  {
   "cell_type": "markdown",
   "id": "30e11719",
   "metadata": {},
   "source": [
    "### Error de redondeo\n",
    "\n",
    "Consideremos al número $\\frac{1}{10}$ (\"un décimo\"), que se expresa como suma de potencias de dos de la siguiente forma:\n",
    "\n",
    "$$\\frac{1}{10} = 2^{-4} + 2^{-5} + 2^{-8} + 2^{-9} + 2^{-12} + 2^{-13} + ... = \\sum_{n=1}^\\infty \\big( 2^{-(4n)} + 2^{-(4n+1)} \\big).$$\n",
    "\n",
    "Es decir, $\\frac{1}{10}$ se obtiene a través de una serie infinita de potencias de dos. Observemos que este número que se escribe utilizando una sola cifra decimal en el sistema decimal  _¡se representa con una **infinidad** de cifras en el sistema binario!_\n",
    "\n",
    "$$\\frac{1}{10} = 0.00011001100110011\\dots$$\n",
    "\n",
    "Dado que una computadora no puede almacenar una _infinidad_ de bits por las limitaciones físicas del tamaño de la memoria, sólo podrá representar al número $\\frac{1}{10}$ de manera _aproximada_. Esto se conoce como **error de redondeo** y necesariamente está presente en todas las implementaciones computacionales de los sistemas numéricos de punto flotante.\n",
    "\n",
    "Este problema no es cosa menor: la _mayoría_ de los números reales (elementos de $\\mathbb{R}$) se expresan como series **infinitas** de potencias de $2$ por lo que, al trabajar con una computadora, _**¡la mayoría de los números reales** no podrán ser representados fielmente, sino que **sufrirán un error de redondeo!**_ La mayor aproximación a un número que puede hacer una computadora con una cantidad de bits específica se conoce como el _valor redondeado_."
   ]
  },
  {
   "cell_type": "markdown",
   "id": "5cd17eb9",
   "metadata": {},
   "source": [
    "## Tipos de números de punto flotante\n",
    "\n",
    "Existen varios **tipos de números de punto flotante** que por razones de confiabilidad, compatibilidad y portabilidad, entre otras,  están definidos en un [estándar técnico](https://en.wikipedia.org/wiki/IEEE_754) utilizado a escala global. Los tres más comunes se conocen como _números de punto flotante de precisión estándar_, _números de punto flotante de precisión doble_ y _números de punto flotante de precisión media_.\n",
    "\n",
    "Los **números de punto flotante de precisión estándar** utilizan 32 bits para el almacenamiento de cada número, como sigue:\n",
    "* 1 bit almacena el signo (positivo o negativo),\n",
    "* 8 bits almacenan el exponente y\n",
    "* 23 bits (todos los restantes) almacenan el significando.\n",
    "\n",
    "Por otro lado, los **números de punto flotante de precisión doble** utilizan 64 bits para el almacenamiento de la siguiente forma:\n",
    "* 1 bit almacena el signo,\n",
    "* 11 bits almacenan el exponente y\n",
    "* 52 bits (los restantes), el significando.\n",
    "\n",
    "Por último, los **números de punto flotante de precisión media** utilizan 16 bits para el almacenamiento como sigue:\n",
    "* 1 bit almacena el signo,\n",
    "* 5 bits almacenan el exponente y\n",
    "* 11 bits (restantes), el significando."
   ]
  },
  {
   "cell_type": "markdown",
   "id": "64b4eac3",
   "metadata": {},
   "source": [
    "Intuitivamente, es claro que entre más bits utilicemos para representar números de punto flotante, más fiel será dicha representación y, por ende, menor será el error de redondeo. En sentido contrario, entre menos bits utilicemos, podrá haber una pérdida mayor de información al momento de almacenar números de punto flotante en memoria, aumentando así el error de redondeo. Por esto es que, una vez que se definió el \"estándar\" de utilizar 32 bits para almacenar números de punto flotante, al uso de 64 bits para el mismo fin se le llamó \"precisión media\" y, al de 16 bits, \"precisión media\".\n",
    "\n",
    "Es importante no perder de vista que, aunque para un ser humano más bits implica una mayor precisión, para una computadora más bits implica _más información con la cual trabajar_, lo que a su vez implica _más espacio necesario para almacenamiento_, así como un _mayor tiempo de cómputo_ para hacer los cálculos. En particular, las computadoras ven como números \"grandes\" a aquellos que necesitan muchos bits para ser representados, ¡los cuales pueden tener valores cercanos a infinito (\"grandes\" para un ser humano) o a cero (\"pequeños\")!\n",
    "\n",
    "**Nota** Usualmente a los números de punto flotante de precisión estándar se les llama simplemente _números de punto flotante_ (o _floats_, en inglés). Por lo tanto, cuando hablemos de números de punto flotante _sin especificar la precisión_ puedes asumir que hablamos de precisión estándar."
   ]
  },
  {
   "cell_type": "markdown",
   "id": "a4c9d534",
   "metadata": {},
   "source": [
    "### Tipos de datos numéricos de punto flotante en Julia\n",
    "\n",
    "Los tres tipos de números de punto flotante descritos anteriormente están implementados en Julia mediante los tipos de datos numéricos `Float32`, `Float64` y `Float16`, conocidos en conjunto como **tipos de datos numéricos de punto flotante**. Los números de tipo `Float32` se escriben en notación científica, utilizando la letra `f` como en el siguiente ejemplo:"
   ]
  },
  {
   "cell_type": "code",
   "execution_count": null,
   "id": "6767a1c7",
   "metadata": {
    "scrolled": true
   },
   "outputs": [],
   "source": [
    "typeof(2.99702458f8) #Velocidad de la luz (m/s) como número de punto flotante"
   ]
  },
  {
   "cell_type": "markdown",
   "id": "e69e389c",
   "metadata": {},
   "source": [
    "En cambio, los números de tipo `Float64` se escriben también en notación científica, pero utilizando `e` en vez de `f`:"
   ]
  },
  {
   "cell_type": "code",
   "execution_count": null,
   "id": "d8af1606",
   "metadata": {},
   "outputs": [],
   "source": [
    "typeof(2.99702458e8) #Velocidad de la luz (m/s) como número de punto flotante de precisión doble"
   ]
  },
  {
   "cell_type": "markdown",
   "id": "8be1e6a1",
   "metadata": {},
   "source": [
    "Por último, los `Float16` se escriben aplicando la función `Float16()` a números de cualquiera de los dos tipos anteriores:"
   ]
  },
  {
   "cell_type": "code",
   "execution_count": null,
   "id": "9c79be88",
   "metadata": {},
   "outputs": [],
   "source": [
    "typeof(Float16(2.99702458f8)) #Número de tipo Float32 convertido a Float16"
   ]
  },
  {
   "cell_type": "markdown",
   "id": "f6214ed9",
   "metadata": {},
   "source": [
    "**Nota** También existen las funciones `Float32()` y `Float64()` para convertir a los tipos numéricos de punto flotante `Float32` y `Float64`, respectivamente."
   ]
  },
  {
   "cell_type": "markdown",
   "id": "f4e681cf",
   "metadata": {},
   "source": [
    "Dado que Julia es un lenguaje de programación creado específicamente para el cómputo científico, que requiere de alta precisión numérica, los **números escritos con punto decimal** se toman como **números de punto flotante de doble precisión** de forma predeterminada:"
   ]
  },
  {
   "cell_type": "code",
   "execution_count": null,
   "id": "48c76f4e",
   "metadata": {},
   "outputs": [],
   "source": [
    "typeof(3.14159)"
   ]
  },
  {
   "cell_type": "markdown",
   "id": "cbbe8c04",
   "metadata": {},
   "source": [
    "Por congruencia, **no se recomienda trabajar con números de tipo** `Float16` en Julia. De hecho, estos ni siquiera están implementados a nivel de _hardware_, sino a nivel de _software_ -en particular, son convertidos a `Float32` para hacer cálculos- por lo que al utilizarlos no existe el beneficio usual de ahorro de recursos computacionales."
   ]
  },
  {
   "cell_type": "markdown",
   "id": "b3924ad3",
   "metadata": {},
   "source": [
    "**Ejercicio** Crea una tabla que resuma lo que hemos aprendido hasta el momento sobre números de tipo flotante (flotante de precisión estándar, flotante de precisión doble y flotante de precisión media). Por cada tipo debes incluir:\n",
    "* la cantidad de bits totales utilizados,\n",
    "* la cantidad de bits asignados al signo, al exponente y al significante,\n",
    "* el mayor y el menor número representable (sin contar `Inf` ni `-Inf`), y\n",
    "* el tipo de dato numérico correspondiente en Julia."
   ]
  },
  {
   "cell_type": "markdown",
   "id": "bb494b8c",
   "metadata": {},
   "source": [
    "El error de redondeo comentado anteriormente no siempre es evidente a simple vista:"
   ]
  },
  {
   "cell_type": "code",
   "execution_count": null,
   "id": "55888447",
   "metadata": {},
   "outputs": [],
   "source": [
    "0.1"
   ]
  },
  {
   "cell_type": "markdown",
   "id": "efb202c2",
   "metadata": {},
   "source": [
    "Sin embargo, **al hacer operaciones** con números que tienen error de redondeo, **el error se amplifica**:"
   ]
  },
  {
   "cell_type": "code",
   "execution_count": null,
   "id": "e2f700df",
   "metadata": {},
   "outputs": [],
   "source": [
    "0.1 + 0.1 + 0.1 + 0.1 + 0.1 + 0.1 + 0.1 + 0.1 + 0.1 #Comparar con la celda previa"
   ]
  },
  {
   "cell_type": "markdown",
   "id": "6a7e6633",
   "metadata": {},
   "source": [
    "Dado lo anterior, para hacer cómputo científico es _crucial_ estar conscientes del error de redondeo que tendrán los números con los que trabajemos. Ya que usar una **mayor cantidad de bits** para representar números reales nos dará una **mayor precisión** pero vendrá con el costo de un **mayor tiempo de cómputo**, para cualquier proyecto de cómputo científico se debe sopesar la _precisión_ deseada para los cálculos contra el _tiempo_ que se tiene disponible para llevarlos a cabo.\n",
    "\n",
    "**Nota** Dado que los datos numéricos de tipo flotante se almacenan usando un bit para el signo y _cantidades limitadas de bits para_ dos _enteros_ (significando y exponente), **también pueden sufrir de sobreflujo**, el tipo de error que vimos en el _notebook_ [`1.1-Operadores_aritméticos_y_tipos_de_datos_numéricos.ipynb`](./1.1-Operadores_aritméticos_y_tipos_de_datos_numéricos.ipynb)."
   ]
  },
  {
   "cell_type": "markdown",
   "id": "4fed2d2a",
   "metadata": {},
   "source": [
    "### Épsilon de máquina\n",
    "\n",
    "Hemos visto que la representación de una gran cantidad de números en cualquier sistema de punto flotante implementado computacionalmente conlleva un proceso de redondeo. Por ende, podemos calcular el error relativo en el redondeo como sigue:\n",
    "\n",
    "$$\\text{error relativo} = \\frac{\\text{error absoluto}}{\\text{valor redondeado,}}$$\n",
    "\n",
    "donde $\\text{error absoluto}$ es la diferencia entre el valor que se quería representar y el $\\text{valor}$ (al cual fue) $\\text{redondeado}$.\n",
    "\n",
    "A través de argumentos heurísticos, es posible ver que los errores relativos más grandes cualquier implementación de un sistema de punto flotante ocurren entre los números _mayores_ que uno _que son redondeados a uno_, y que estos aumentan a medida que aumenta el número. Por lo tanto, se considera como **cota superior del error relativo del sistema de punto flotante** al _mayor número que el sistema redondea a uno_, y se le llama **épsilon de máquina**.\n",
    "\n",
    "En Julia, la función `eps` nos devuelve la épsilon de máquina de un tipo numérico de punto flotante:"
   ]
  },
  {
   "cell_type": "code",
   "execution_count": null,
   "id": "9013acf2",
   "metadata": {},
   "outputs": [],
   "source": [
    "eps(Float64)"
   ]
  },
  {
   "cell_type": "code",
   "execution_count": null,
   "id": "5d41dda8",
   "metadata": {},
   "outputs": [],
   "source": [
    "eps(Float32)"
   ]
  },
  {
   "cell_type": "markdown",
   "id": "af435677",
   "metadata": {},
   "source": [
    "Si como entrada le damos un número de punto flotante de cierto tipo, `eps` nos devuelve el siguiente número de punto flotante del mismo tipo que puede ser representado:"
   ]
  },
  {
   "cell_type": "code",
   "execution_count": null,
   "id": "13a9393c",
   "metadata": {},
   "outputs": [],
   "source": [
    "eps(1.0) #Recuerda que Julia toma a 1.0 como de tipo Float64 de forma predeterminada"
   ]
  },
  {
   "cell_type": "markdown",
   "id": "aaca6e8a",
   "metadata": {},
   "source": [
    "### Propagación de error\n",
    "\n",
    "Como cualquier persona que esté familiarizada con física experimental sabe, ninguna medición física está exenta de error y, al hacer cálculos con datos tomados a partir de mediciones físicas, es importante considerar cómo es que los errores de las mediciones se propagan al cálculo final; suponer que al hacer operaciones con números inciertos podemos obtener un resultado exacto sería **absurdo**. Una fórmula general para calcular el error absoluto de una función de varias variables $f(x_1,...,x_n)$ propagado por las variables $x_1,...,x_n$ con error absoluto $\\Delta x_1,...,\\Delta x_n$ es[3]\n",
    "\n",
    "$$\\Delta f = \\sqrt{ \\sum_{i=1}^n \\bigg(\\frac{\\partial f}{\\partial x_i} \\Delta x_i\\bigg)^2 },$$\n",
    "\n",
    "y está acotado superiormente por\n",
    "\n",
    "$$\\Delta f \\leq \\sum_{i=1}^n \\bigg| \\frac{\\partial f}{\\partial x_i} \\bigg| \\Delta x_i.$$\n",
    "\n",
    "Dado que las computadoras no escapan el mundo físico (aunque a veces parezca que nos ayudan a hacerlo) es crucial que, siempre que hagamos cálculos numéricos **de alta precisión**, tomemos en cuenta las **limitaciones de los sistemas numéricos** implementados en las computadoras que utilicemos."
   ]
  },
  {
   "cell_type": "markdown",
   "id": "008b2441",
   "metadata": {},
   "source": [
    "## Resumen\n",
    "\n",
    "Un _sistema numérico_ es una forma de representar números, necesario para hacer cálculos numéricos. Los sistemas numéricos más comunmente utilizados para cálculos en computadoras son los _sistemas de punto flotante_, pues tienen las bondades de ser fáciles de implementar (sobre todo los de base 2), usar, y estandarizar, además de ser rápidos, versátiles (útiles para trabajar tanto con números muy grandes como muy pequeños), y precisos. Sin embargo, dado que la capacidad de memoria de las computadoras es limitada, ocurren errores de redondeo al representar a algunos números en este tipo de sistemas. Por lo tanto, al hacer cálculos de alta precisión, es importante tener en cuenta la _épsilon de máquina_ (cota superior del error relativo en un sistema de punto flotante) y la _propagación de errores_ en nuestro cálculos, así como otras limitaciones de nuestros instrumentos de cálculo (nuestras computadoras).\n",
    "\n",
    "En Julia, los principales tipos numéricos primitivos para números de punto flotante son `Float32` y `Float64`, que para representar números usan 32 y 64 _bits_, respectivamente, y la épsilon de máquina para cada tipo se puede obtener con la función `eps`. En general, aumentar la cantidad de _bits_ utilizados para representar números reducirá los errores de redondeo a cambio de aumentar el tiempo de cómputo, y vice versa."
   ]
  },
  {
   "cell_type": "markdown",
   "id": "dfb7a66b",
   "metadata": {},
   "source": [
    "## Dato curioso\n",
    "\n",
    "Julia también implementa soporte para [aritmética de precisión arbitraria](https://docs.julialang.org/en/v1/manual/integers-and-floating-point-numbers/#Arbitrary-Precision-Arithmetic), aunque estos cálculos son relativamente más lentos.\n",
    "\n",
    "## Bibliografía\n",
    "\n",
    "[1] Muller et al, _Handbook of Floating-Point Arithmetic_ (2018). \n",
    "\n",
    "[2]\n",
    "Baird, _Experimentación: Una introducción a la teoría de mediciones y al diseño experimental_ (1991).\n",
    "\n",
    "[3] Taylor, _An Introduction to Error Analysis: The Study of Uncertanties in Physical Measurements_ (1982).\n",
    "\n",
    "## Recursos complementarios\n",
    "* Video [_Floating Point Numbers_](https://www.youtube.com/watch?v=PZRI1IfStY0) del canal de YouTube Computerphile.\n",
    "* [Documentación de números enteros y de punto flotante en Julia](https://docs.julialang.org/en/v1/manual/integers-and-floating-point-numbers/).\n",
    "* Página de Wikipedia del [estándar para aritmética de punto flotante IEEE 754](https://en.wikipedia.org/wiki/IEEE_754).\n",
    "* Sección 1.2 \"Round-off Errors and Computer Arithmetic\" de Burden et al, _Numerical Analysis_ (2019)."
   ]
  }
 ],
 "metadata": {
  "kernelspec": {
   "display_name": "Julia 1.8.4",
   "language": "julia",
   "name": "julia-1.8"
  },
  "language_info": {
   "file_extension": ".jl",
   "mimetype": "application/julia",
   "name": "julia",
   "version": "1.8.4"
  }
 },
 "nbformat": 4,
 "nbformat_minor": 5
}
