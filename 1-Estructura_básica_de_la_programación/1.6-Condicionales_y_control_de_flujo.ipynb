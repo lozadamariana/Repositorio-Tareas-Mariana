{
 "cells": [
  {
   "cell_type": "markdown",
   "id": "4f3bb035",
   "metadata": {},
   "source": [
    "# Condicionales y control de flujo\n",
    "\n",
    "Una aplicación extremadamente valiosa de los datos de tipo Booleano, introducidos en el _notebook_ [`1.5-Operaciones_lógicas_y_valores_booleanos.ipynb`](./1.5-Operaciones_lógicas_y_valores_booleanos.ipynb), es en la creación de declaraciones condicionales."
   ]
  },
  {
   "cell_type": "markdown",
   "id": "f5519167",
   "metadata": {},
   "source": [
    "## Condicionales\n",
    "\n",
    "### Declaraciones `if` (_if statements_)\n",
    "\n",
    "Al momento de escribir programas, es útil poder ejecutar algunos comandos especiales _sólo si se cumplen ciertas condiciones_. La manera de hacer esto es con declaraciones _condicionales_; las más sencillas son del tipo\n",
    "\n",
    "$$\\textit{si sucede 'x', entonces haz 'y'}.$$\n",
    "\n",
    "Un ejemplo de una declaración de este tipo en Julia es el siguiente:"
   ]
  },
  {
   "cell_type": "code",
   "execution_count": null,
   "id": "391fd507",
   "metadata": {},
   "outputs": [],
   "source": [
    "v = 1\n",
    "\n",
    "if v > 2\n",
    "    \n",
    "    println(\"¡Lo lograste!\")\n",
    "    \n",
    "end"
   ]
  },
  {
   "cell_type": "markdown",
   "id": "49be1ec6",
   "metadata": {},
   "source": [
    "Observa que, si ejecutas la celda anterior, no ocurre nada. Esto es porque la condición `v > 1` **no se cumple**.\n",
    "\n",
    "**Ejercicio** Cambia **sólo un símbolo** (letra, número, operador, etc) de la celda anterior de tal forma que obtengas algo en la salida (Hay dos maneras diferentes de hacerlo). Después, comenta el código de la celda anterior."
   ]
  },
  {
   "cell_type": "markdown",
   "id": "902741df",
   "metadata": {},
   "source": [
    "Las declaraciones condicionales como la del ejemplo anterior se conocen como declaraciones `if`, pues esta palabra significa \"si\" en inglés. La sintáxis general de una declaración `if` en Julia (traducida al español) es:\n",
    "\n",
    "$\\color{green}{\\textbf{si}} \\ \\ \\text{condición}$\n",
    "\n",
    "$\\quad \\quad \\text{entonces...}$\n",
    "\n",
    "$\\color{green}{\\textbf{fin}}$\n",
    "\n",
    "donde $\\text{entonces...}$ es todo el código que se encuentre _debajo_ de la condición y _arriba_ de $\\color{green}{\\text{fin}}$. La idea básica de una declaración `if` es: si, al ejecutar el código, la expresión $\\text{condición}$ se evalúa a `true`, se ejecutará el bloque de código $\\text{entonces...}$.\n",
    "\n",
    "**Ejercicio** Escribe una celda de código en donde se defina una variable y:\n",
    "* si la variable es mayor que cinco, devuelva la frase _mayor que cinco_;\n",
    "* si la variable es menor o igual que cinco, devuelva la frase _menor o igual que cinco_.\n",
    "\n",
    "(Pista: utiliza dos declaraciones `if`.)"
   ]
  },
  {
   "cell_type": "code",
   "execution_count": null,
   "id": "7b831d63",
   "metadata": {},
   "outputs": [],
   "source": [
    "# Tu código (comentado) va aquí :D"
   ]
  },
  {
   "cell_type": "markdown",
   "id": "b5b381a9",
   "metadata": {},
   "source": [
    "**Ejercicio** Crea una nueva celda con un código que haga lo mismo que en el ejercicio anterior, pero **sólo** si la variable es de tipo `Int64`. Para hacerlo, primero escribe un **diagrama de flujo**\n",
    "(Pista: ¡el bloque de código $\\text{entonces...}$ en una declaración condicional puede, en particular, contener más declaraciones `if`!)"
   ]
  },
  {
   "cell_type": "code",
   "execution_count": null,
   "id": "2e625431",
   "metadata": {},
   "outputs": [],
   "source": [
    "# Tu código (comentado) va aquí :D"
   ]
  },
  {
   "cell_type": "markdown",
   "id": "6536eb3b",
   "metadata": {},
   "source": [
    "### Declaraciones `if-else` (_if-else statements_)\n",
    "\n",
    "Después de haber hecho los ejercicios de la sección anterior, quizá habrás notado que, en el penúltimo ejercicio, la condición sobre la variable que definiste que da como resultado la frase _menor o igual que cinco_ es la **negación** de la condición que da como resultado _mayor que cinco_, por lo que pudimos haber escrito las declaraciones condicionales (ahora sí, en inglés) de esta forma:\n",
    "\n",
    "$\\color{green}{\\textbf{if }} \\text{condition}$\n",
    "\n",
    "$\\quad \\quad \\text{then...}$\n",
    "\n",
    "$\\color{green}{\\textbf{end}}$\n",
    "\n",
    "$\\color{green}{\\textbf{if}} \\ \\ \\color{magenta}{\\textbf{! }}\\text{condition}$\n",
    "\n",
    "$\\quad \\quad \\text{then...}$\n",
    "\n",
    "$\\color{green}{\\textbf{end}}$\n",
    "\n",
    "Dado que cuando programamos es extremadamente común querer verificar una condición y, además de ejecutar cierto código si se verifica, tener un código alternativo a ejecutar si **no** se verifica, suele haber una forma más sencilla de escribir esto. En Julia se utiliza `else`, pues esta palabra significa \"si no/en caso contrario/de otro modo\" en inglés, y las declaraciones condicionales de este tipo se conocen como `if/else`. La sintáxis general de una declaración `if-else` en Julia es:\n",
    "\n",
    "$\\color{green}{\\textbf{if}} \\ \\ \\text{condition}$\n",
    "\n",
    "$\\quad \\quad \\text{then...}$\n",
    "\n",
    "$\\color{green}{\\textbf{else}}$\n",
    "\n",
    "$\\quad \\quad \\text{alternative...}$\n",
    "\n",
    "$\\color{green}{\\textbf{end}}$\n",
    "\n",
    "La idea básica de una declaración `if-else` es: si, al ejecutar el código, la expresión $\\text{condition}$ se evalúa a `true`, se ejecutará el bloque de código $\\text{then...}$ mientras que, si se evalúa a `false`, se ejecutará el bloque de código $\\text{alternative...}$ ¿ves lo útiles que se han vuelto los valores Booleanos tan pronto?\n",
    "\n",
    "**Ejercicio** Reescribe tu solución del penúltimo ejercicio de la sección **Declaraciones `if` (_if statements_)** utilizando una declaración `if-else`."
   ]
  },
  {
   "cell_type": "code",
   "execution_count": null,
   "id": "a21b4eea",
   "metadata": {},
   "outputs": [],
   "source": [
    "# Tu código (comentado) va aquí :D"
   ]
  },
  {
   "cell_type": "markdown",
   "id": "282bc240",
   "metadata": {},
   "source": [
    "### Declaraciones `if-elseif-else` (_if-elseif-else statements_)\n",
    "\n",
    "Existe otra situación recurrente cuando queremos programar en función de que se cumplan o no ciertas condiciones: esto es cuando, más allá de sólo querer verificar si **una** condición **se cumple o no**, queremos verificar si **alguna de varias** condiciones se cumple, especificar **para cada una de ellas** qué sucederá si se llega a cumplir, y especificar que sucederá si **ninguna** de ellas se cumple. Con lo que sabemos, podríamos escribir un proceso así como:\n",
    "\n",
    "$\\color{green}{\\textbf{if}} \\ \\ \\text{condition1}$\n",
    "\n",
    "$\\quad \\quad \\text{then}1...$\n",
    "\n",
    "$\\color{green}{\\textbf{else}}$\n",
    "\n",
    "$\\quad \\quad \\color{green}{\\textbf{if}} \\ \\ \\text{condition2}$\n",
    "\n",
    "$\\quad \\quad \\quad \\quad \\text{then}2...$\n",
    "\n",
    "$\\quad \\quad \\color{green}{\\textbf{else}}$\n",
    "\n",
    "$\\quad \\quad \\quad \\quad \\color{green}{\\textbf{if}} \\ \\ \\text{condition3}$\n",
    "\n",
    "$\\quad \\quad \\quad \\quad \\quad \\quad \\text{then}3...$\n",
    "\n",
    "$\\quad \\quad \\quad \\quad \\color{green}{\\textbf{else}}$\n",
    "\n",
    "$\\quad \\quad \\quad \\quad \\quad \\quad \\quad \\quad \\quad \\quad \\dots$\n",
    "\n",
    "$\\quad \\quad \\quad \\quad \\quad \\quad \\quad \\quad \\quad \\quad \\quad \\quad \\color{green}{\\textbf{if}} \\ \\ \\text{condition}n$\n",
    "\n",
    "$\\quad \\quad \\quad \\quad \\quad \\quad \\quad \\quad \\quad \\quad \\quad \\quad \\quad \\quad \\text{then}n...$\n",
    "\n",
    "$\\quad \\quad \\quad \\quad \\quad \\quad \\quad \\quad \\quad \\quad \\quad \\quad \\color{green}{\\textbf{else}}$\n",
    "\n",
    "$\\quad \\quad \\quad \\quad \\quad \\quad \\quad \\quad \\quad \\quad \\quad \\quad \\quad \\quad \\text{alternative...}$\n",
    "\n",
    "$\\quad \\quad \\quad \\quad \\quad \\quad \\quad \\quad \\quad \\quad \\quad \\quad \\color{green}{\\textbf{end}}$\n",
    "\n",
    "$\\quad \\quad \\quad \\quad \\quad \\quad \\quad \\quad \\quad \\quad \\dots$\n",
    "\n",
    "$\\quad \\quad \\quad \\quad \\color{green}{\\textbf{end}}$\n",
    "\n",
    "$\\quad \\quad \\color{green}{\\textbf{end}}$\n",
    "\n",
    "$\\color{green}{\\textbf{end}}$\n",
    "\n",
    "En este caso, el bloque de código que se ejecutará si **ninguna** de las condiciones de las declaraciones `if` se cumple es $\\text{alternative...}$. \n",
    "\n",
    "Las \"cascadas\" de declaraciones `if-else` anidadas como la anterior a menudo no son fáciles de entender a simple vista, lo cual complica poder programar procesos de este tipo. Afortunadamente, en Julia, existe una manera de simplificar este tipo de expresiones, utilizando `elseif` para decir \"si no se cumple la condición anterior, entonces si se cumple esta nueva condición...\"; las declaraciones condicionales de este tipo se conocen como declaraciones `if-elseif-else`, y la sintáxis general de una declaración de este tipo en Julia es:\n",
    "\n",
    "$\\color{green}{\\textbf{if}} \\ \\ \\text{condition1}$\n",
    "\n",
    "$\\quad \\quad \\text{then}1...$\n",
    "\n",
    "$\\color{green}{\\textbf{elseif}} \\ \\ \\text{condition2}$\n",
    "\n",
    "$\\quad \\quad \\text{then}2...$\n",
    "\n",
    "...\n",
    "\n",
    "$\\color{green}{\\textbf{elseif}} \\ \\ \\text{condition}n$\n",
    "\n",
    "$\\quad \\quad \\text{then}n...$\n",
    "\n",
    "$\\color{green}{\\textbf{else}}$\n",
    "\n",
    "$\\quad \\quad \\text{alternative...}$\n",
    "\n",
    "$\\color{green}{\\textbf{end}}$\n",
    "\n",
    "Esto es equivalente a la \"cascada\" de declaraciones `if` anidadas anterior, por lo que logra el mismo propósito ¡pero siendo mucho más manejable!\n",
    "\n",
    "**Nota** _¡No todos los lenguajes de programación tienen algo parecido a `elseif`!_ por lo que,  en muchos otros, en la práctica se tienen que anidar varias declaraciones `if` \"en cascada\" bajo una declaración `if` básica (cuya verificación sea un requisito previo a todas las declaraciones anidadas) para lograr un efecto parecido."
   ]
  },
  {
   "cell_type": "markdown",
   "id": "4a5bbad4",
   "metadata": {},
   "source": [
    "**Ejercicio** Escribe un código en donde defines una variable y, sólo si la variable es de tipo `Int64`, devuelva la palabra _positivo_, _negativo_ o _cero_ dependiendo de si el número de tipo entero es positivo, negativo o cero, respectivamente."
   ]
  },
  {
   "cell_type": "code",
   "execution_count": null,
   "id": "b4998456",
   "metadata": {},
   "outputs": [],
   "source": [
    "# Tu código (comentado) va aquí :D"
   ]
  },
  {
   "cell_type": "markdown",
   "id": "e3f38c91",
   "metadata": {},
   "source": [
    "Una observación **crucial** sobre las declaraciones `if-elseif-else` en Julia es que **las condiciones se verifican secuencialmente de arriba hacia abajo** y que **las declaraciones `if-elseif-else` terminan de ejecutarse en cuanto una de las condiciones se verifica**. En efecto, todo esto se puede deducir a partir del **diagrama de flujo** de las declaraciones `if-elseif-else` en Julia o, equivalentemente, recordando que estas declaraciones son equivalentes a anidar muchas declaraciones `if-else` \"en cascada\".\n",
    "\n",
    "Una consecuencia de esto es que, si escribimos una declaración `if-elseif-else` en la que una **misma** condición aparece **varias veces**, sólo se ejecutará el bloque de código que se encuentra debajo de **la primera vez** que aparece dicha condición. Por lo tanto, siempre que utilicemos este tipo de declaraciones condicionales, hay que **tener cuidado en cómo ordenamos nuestras condiciones** y **verificar que todas ellas funcionen correctamente**."
   ]
  },
  {
   "cell_type": "markdown",
   "id": "a8fa594d",
   "metadata": {},
   "source": [
    "Una observación útil es que ¡podemos utilizar declaraciones condicionales para definir funciones!\n",
    "\n",
    "**Ejercicio** Define una función llamada `Entero_o_flotante` que tome una variable numérica y devuelva la frase:\n",
    "* _¡Es de tipo entero!_ si el número es de tipo `Int64`;\n",
    "* _¡Es de punto flotante!_ si el número es de tipo `Float64`;\n",
    "* _¡No sé qué es!_ si ninguna de las condiciones anteriores se cumple.\n",
    "\n",
    "de tal forma que, si la variable introducida no es numérica, **marque un error** (Sugerencia: Usa [la documentación de Julia](https://docs.julialang.org/en/v1/base/numbers/) como referencia y utiliza operadores lógicos y paréntesis en las condiciones que lo requieran)."
   ]
  },
  {
   "cell_type": "code",
   "execution_count": null,
   "id": "30c46ba8",
   "metadata": {},
   "outputs": [],
   "source": [
    "# Tu código comentado va aquí :D"
   ]
  }
 ],
 "metadata": {
  "kernelspec": {
   "display_name": "Julia 1.8.4",
   "language": "julia",
   "name": "julia-1.8"
  },
  "language_info": {
   "file_extension": ".jl",
   "mimetype": "application/julia",
   "name": "julia",
   "version": "1.8.4"
  }
 },
 "nbformat": 4,
 "nbformat_minor": 5
}
