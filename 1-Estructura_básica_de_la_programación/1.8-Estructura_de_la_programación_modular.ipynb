{
 "cells": [
  {
   "cell_type": "markdown",
   "id": "6db92d3f",
   "metadata": {},
   "source": [
    "# Estructura de la programación modular\n",
    "\n",
    "## Escribir un programa en un solo archivo puede ser problemático\n",
    "\n",
    "Como hemos visto previamente, podemos definir nuestras propias funciones para ejecutar series de instrucciones específicas, modificando valores y/o variables, de ser necesario, siempre que nos parezca conveniente. Gran parte del poder de la programación yace en esta capacidad de poder crear nuestras propias funciones; sin embargo, con lo que hemos visto hasta el momento, esto también nos podría generar los siguientes problemas e inconvenientes:\n",
    "* si queremos usar algunas funciones para muchos programas distintos, tenemos que copiar y pegar las definiciones a cada uno de los archivos en que las queramos usar;\n",
    "* si, posteriormente, queremos modificar a una de las funciones en todos los programas en que la utilizamos, tenemos que modificar su definición en cada uno de los archivos en los que se define.\n",
    "\n",
    "Más aún, si queremos usar funciones que otra persona ha definido, tenemos que acceder al código fuente (esto es, si el código es abierto) y copiar y pegar las definiciones en todos los archivos en que los queramos usar.\n",
    "\n",
    "## Programación modular\n",
    "\n",
    "Todos los problemas mencionados anteriormente se podrían resolver si todas las funciones pudieran definirse en **un sólo archivo** (de código abierto), que pudiéramos _cargar_ en cada uno de los programas que las requieran. Afortunadamente, ¡esto es posible!\n",
    "\n",
    "Lo anterior es un ejemplo de **programación modular** donde, _en vez de escribir todo un programa_ (que puede tener una longitud y complejidad arbitraria) _en un solo archivo_, _lo separamos en varios archivos diferentes_ y, cada vez que el código escrito en un archivo $a$ se requiera en un archivo $b$, podamos dar la instrucción de que se ejecute el código del archivo $a$ con algún comando en el archivo $b$."
   ]
  },
  {
   "cell_type": "markdown",
   "id": "87a151cc",
   "metadata": {},
   "source": [
    "### `include`\n",
    "\n",
    "En Julia, la función `include` sirve para ejecutar el código de otro archivo dentro del archivo donde se utilice esta función. Por ejemplo, para ejecutar el código (de Julia) de un archivo `a.jl` en otro archivo `b.jl`, escribiríamos el comando\n",
    "\n",
    "```include(\"a.jl\")```\n",
    "\n",
    "en alguna línea del archivo `b.jl`. En esencia, esto es equivalente a reemplazar la línea anterior del archivo `b.jl` con todo el contenido del archivo `a.jl`.\n",
    "\n",
    "Algunas consideraciones importantes al usar `include` son las siguientes.\n",
    "1. Como estamos trabajando en el paradigma imperativo, el código se ejecuta línea por línea de arriba hacia abajo.\n",
    "1. Si escribimos el comando `include(\"a.jl\")` varias veces en un archivo, entonces todos los contenidos de `a.jl` se ejecutarán cada vez que aparezca `include(\"a.jl\")` en el código.\n",
    "1. Si argumento de `include` no incluye una dirección absoluta, se interpreta en relación a la dirección del archivo donde se utiliza esta función; es decir si, por ejemplo, `b.jl` está en la carpeta `~/MisArchivos/` (y, por ende, su dirección absoluta es `~/MisArchivos/b.jl`), entonces el comando `include(\"a.jl\")` en `b.jl` intentará ejecutar el archivo `~/MisArchivos/a.jl`.\n",
    "\n",
    "No tener presentes las observaciones anteriores podría traernos problemas. Por ejemplo, supongamos que en `a.jl` se definen variables y/o funciones. Si alguna de ellas se utiliza en el código `b.jl` _antes_ del comando `include(\"a.jl\")` entonces, por 1, obtendremos un error de que aún no ha sido definida. Por otro lado, si usamos `include(\"a.jl\")` varias veces entonces, por 2, a las variables definidas en `a.jl` se les volverá a asignar el valor que tienen en ese archivo en cada línea donde se ejecute `include(\"a.jl\")`, lo cual puede no ser deseable. Más aún, si se incluye el código de dos archivos `a.jl` y `c.jl` en un archivo `b.jl`, entonces los códigos de los tres archivos deben ser compatibles, es decir, que no se utilicen los mismos nombres para variables (o funciones) que tengan asignaciones (o definiciones) diferentes."
   ]
  },
  {
   "cell_type": "markdown",
   "id": "c3170925",
   "metadata": {},
   "source": [
    "Algunos usos de la programación modular son los siguientes.\n",
    "* Definir todas las constantes que se utilicen en un programa en un solo archivo.\n",
    "* Definir funciones que cumplan un objetivo específico y puedan ser utilizadas en una gran variedad de programas diferentes."
   ]
  },
  {
   "cell_type": "markdown",
   "id": "68b00038",
   "metadata": {},
   "source": [
    "## Módulos\n",
    "\n",
    "Una forma de hacer programación modular en Julia más sofisticada que usar `include` es usando **módulos**. Los módulos nos permiten organizar un código en unidades coherentes e independientes. Algunas de las ventajas de usar módulos incluyen:\n",
    "* poder incluir partes del código de un módulo _selectivamente_, es decir, sin necesidad de incluir _todo_ el código del módulo;\n",
    "* los módulos pueden ser _precompilados_ (es decir, convertidos a lenguaje de máquina) de antemano, ahorrándonos tiempo.\n",
    "\n",
    "### Creando módulos\n",
    "\n",
    "Para crear un módulo, utilizamos una sintáxis como la siguiente:"
   ]
  },
  {
   "cell_type": "code",
   "execution_count": null,
   "id": "29b8c1b4",
   "metadata": {},
   "outputs": [],
   "source": [
    "module MiMódulo                           # Iniciamos el módulo.\n",
    "\n",
    "export miFunción1, miFunción2             # Especificamos qué cosas definidas\n",
    "                                          # dentro del módulo podrán ser\n",
    "                                          # importadas en otros archivos.\n",
    "\n",
    "    function miFunción1()                 # Definimos las cosas que exporta-\n",
    "                                          # remos.\n",
    "    \n",
    "        print(\"Acabas de llamar a miFunción1.\")\n",
    "\n",
    "    end\n",
    "\n",
    "    function miFunción2()\n",
    "\n",
    "        print(\"Acabas de llamar a miFunción2.\")\n",
    "\n",
    "    end\n",
    "\n",
    "    function miFunción3()\n",
    "\n",
    "        print(\"Acabas de llamar a miFunción3.\")\n",
    "\n",
    "    end\n",
    "\n",
    "end                                        # Finalizamos el módulo."
   ]
  },
  {
   "cell_type": "markdown",
   "id": "6cef54ed",
   "metadata": {},
   "source": [
    "Notamos que la declaración `module`, que inicia un bloque de código que Julia convertirá en un módulo y declara el nombre del módulo, va al inicio del archivo. Por conveniencia, justo después viene la declaración `export`, donde se nombran todas las variables, funciones, etcétera que queremos que puedan ser importadas en otros archivos, antes de que éstas sean definidas.\n",
    "\n",
    "Generalmente, los módulos se definen en un solo archivo.\n",
    "\n",
    "### Cargando módulos\n",
    "\n",
    "#### `using`\n",
    "\n",
    "Una forma de cargar todos los contenidos de un módulo es utilizando la sintáxis `using NombreDelMódulo`. Por ejemplo, en el _notebook_ [`1.7-Ciclos.ipynb`](./1.7-Ciclos.ipynb), importamos todos los contenidos del módulo [`ThinkJulia`](https://github.com/BenLauwens/ThinkJulia.jl/blob/master/src/ThinkJulia.jl) con el siguiente comando:"
   ]
  },
  {
   "cell_type": "code",
   "execution_count": null,
   "id": "164e7523",
   "metadata": {},
   "outputs": [],
   "source": [
    "using ThinkJulia"
   ]
  },
  {
   "cell_type": "markdown",
   "id": "5aa749b5",
   "metadata": {},
   "source": [
    "Después de haber ejecutado este comando, podremos llamar a todos los nombres que aparecen en la declaración `export` del módulo correspondiente sin problema alguno. Un ejemplo con el módulo que definimos anteriormente es:"
   ]
  },
  {
   "cell_type": "code",
   "execution_count": null,
   "id": "1b56e5e1",
   "metadata": {},
   "outputs": [],
   "source": [
    "using Main.MiMódulo # Importamos el módulo que definimos anteriormente"
   ]
  },
  {
   "cell_type": "code",
   "execution_count": null,
   "id": "a66c7fef",
   "metadata": {},
   "outputs": [],
   "source": [
    "miFunción2() # Lo que enlistamos en la declaración `export` funciona bien"
   ]
  },
  {
   "cell_type": "code",
   "execution_count": null,
   "id": "d07e8957",
   "metadata": {},
   "outputs": [],
   "source": [
    "miFunción3() # No funciona porque no lo incluimos en la declaración `export`"
   ]
  },
  {
   "cell_type": "markdown",
   "id": "4540fd3f",
   "metadata": {},
   "source": [
    "Si algo se definió dentro del módulo `NombreDelMódulo` pero no se incluyó su nombre en la declaración `export`, podemos llamarlo si lo precedemos de la sintáxis `NombreDelMódulo.`:"
   ]
  },
  {
   "cell_type": "code",
   "execution_count": null,
   "id": "64d26639",
   "metadata": {
    "scrolled": true
   },
   "outputs": [],
   "source": [
    "Main.MiMódulo.miFunción3()"
   ]
  },
  {
   "cell_type": "markdown",
   "id": "9787eaf2",
   "metadata": {},
   "source": [
    "Podemos cargar varios módulos con un solo comando `using` separando sus nombres con una coma, es decir, como en `using Módulo1, Módulo2, Módulo3`.\n",
    "\n",
    "Si sólo queremos cargar algunos de los contenidos de un módulo a nuestro código, podemos utilizar la sintáxis `using NombreDelMódulo: Nombre1, Nombre2, Nombre3`. De esta manera, no tenemos que cargar _todo_ el módulo, sino sólo las partes que utilizaremos.\n",
    "\n",
    "A veces resulta deseable cargar un módulo con un nombre distinto al original. Para esto podemos utilizar la _keyword_ `as` como en `using NombreDelMódulo as Mod`. Esto cargará los contenidos del módulo `NombreDelMódulo`, pero todo lo que no haya sido enlistado en la declaración `export` podrá ser llamado con el prefijo `Mod.` _en vez de_ `NombreDelMódulo.`."
   ]
  },
  {
   "cell_type": "markdown",
   "id": "f5427325",
   "metadata": {},
   "source": [
    "#### `import`\n",
    "\n",
    "También se pueden cargar los contenidos de un módulo con la sintáxis `import NombreDelMódulo`. Sin embargo, este comando ignorará la declaración `export` del módulo `NombreDelMódulo`, por lo que tendremos que escribir `NombreDelMódulo.` antes de cualquier nombre que haya sido definido en ese módulo para poder usarlo.\n",
    "\n",
    "**Nota** Otro término muy común utilizado en programación para referirse a un bloque de código reutilizable "
   ]
  },
  {
   "cell_type": "markdown",
   "id": "26c9d86f",
   "metadata": {},
   "source": [
    "## Paquetes\n",
    "\n",
    "Para poder compartir nuestros módulos con otras personas de manera sencilla, podemos usarlos para formar **paquetes**. A grosso modo, un _paquete_ de Julia es un módulo con toda la estructura necesaria para que pueda ser _instalado_ en una computadora.\n",
    "\n",
    "### `Pkg`\n",
    "\n",
    "En Julia, los paquetes se instalan, actualizan y desinstalan utilizando el administrador de paquetes `Pkg`. Para entrar al modo de administración de paquetes en un REPL de Julia, basta con presionar la tecla `]`; ¡esto es justo lo que te pedimos hacer en las [instrucciones para instalar IJulia y Pluto del repositorio del curso](https://github.com/dabnciencias/AC/)! Una vez que Julia está en modo de administración de paquetes -y el _prompt_ de la terminal haya cambiado a algo como `pkg>`-, la sintáxis para instalar, actualizar y desinstalar paquetes es\n",
    "* `add Paquete`,\n",
    "* `update Paquete`, y\n",
    "* `rm Paquete`,\n",
    "\n",
    "respectivamente. Como Jupyter no es propiamente un REPL, tendremos que escribir `] ` (con un espacio) antes de los comandos anteriores para que Julia sepa que debe entrar al modo de administración de paquetes primero: "
   ]
  },
  {
   "cell_type": "code",
   "execution_count": null,
   "id": "41f8c7f2",
   "metadata": {},
   "outputs": [],
   "source": [
    "] add LinearAlgebra"
   ]
  },
  {
   "cell_type": "code",
   "execution_count": null,
   "id": "ab04ae07",
   "metadata": {},
   "outputs": [],
   "source": [
    "] update LinearAlgebra"
   ]
  },
  {
   "cell_type": "code",
   "execution_count": null,
   "id": "d5ae3011",
   "metadata": {},
   "outputs": [],
   "source": [
    "] rm ThinkJulia"
   ]
  },
  {
   "cell_type": "markdown",
   "id": "23db39c0",
   "metadata": {},
   "source": [
    "¡Oh, no, acabamos de desinstalar el paquete ThinkJulia con el que dibujábamos con tortuguitas! Rápido, ¡reinstalémoslo!"
   ]
  },
  {
   "cell_type": "code",
   "execution_count": null,
   "id": "9d608703",
   "metadata": {},
   "outputs": [],
   "source": [
    "] add ThinkJulia"
   ]
  },
  {
   "cell_type": "markdown",
   "id": "59438f86",
   "metadata": {},
   "source": [
    "A diferencia de los paquetes anteriores, parece que `ThinkJulia` no está 'registrado' (lo que sea que eso signifique). Para poder instalar un paquete no registrado, debemos especificar el URL en el que se encuentra. En el caso de ThinkJulia, este paquete se encuentra disponible en un repositorio de GitHub llamado [ThinkJulia.jl](https://github.com/BenLauwens/ThinkJulia.jl)."
   ]
  },
  {
   "cell_type": "code",
   "execution_count": null,
   "id": "e809afbc",
   "metadata": {},
   "outputs": [],
   "source": [
    "] add https://github.com/BenLauwens/ThinkJulia.jl"
   ]
  },
  {
   "cell_type": "markdown",
   "id": "a29013c6",
   "metadata": {},
   "source": [
    "## Recursos complementarios\n",
    "* [Manual de _Code Loading_ de Julia](https://docs.julialang.org/en/v1/manual/code-loading/).\n",
    "* [Manual de Módulos de Julia](https://docs.julialang.org/en/v1/manual/modules/).\n",
    "* [Preguntas frecuentes sobre Módulos y Paquetes en Julia](https://docs.julialang.org/en/v1/manual/faq/#Packages-and-Modules).\n",
    "* [Documentación del administrador de paquetes de Julia `Pkg`](https://docs.julialang.org/en/v1/stdlib/Pkg/)."
   ]
  }
 ],
 "metadata": {
  "kernelspec": {
   "display_name": "Julia 1.8.4",
   "language": "julia",
   "name": "julia-1.8"
  },
  "language_info": {
   "file_extension": ".jl",
   "mimetype": "application/julia",
   "name": "julia",
   "version": "1.8.4"
  }
 },
 "nbformat": 4,
 "nbformat_minor": 5
}
