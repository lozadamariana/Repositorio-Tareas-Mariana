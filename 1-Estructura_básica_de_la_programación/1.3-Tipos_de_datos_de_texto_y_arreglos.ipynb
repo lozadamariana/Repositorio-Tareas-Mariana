{
 "cells": [
  {
   "cell_type": "markdown",
   "id": "0f785daf",
   "metadata": {},
   "source": [
    "# Tipos de dato de texto y arreglos\n",
    "\n",
    "En este _notebook_ veremos los tipos de dato utilizados por Julia para trabajar con texto y conjuntos de datos."
   ]
  },
  {
   "cell_type": "markdown",
   "id": "cc36e7bb",
   "metadata": {},
   "source": [
    "## Tipos de datos de texto\n",
    "\n",
    "Al programar, poder trabajar con texto siempre es deseable, pues esta funcionalidad es necesaria para, por ejemplo, poder interactuar con la persona que usará el programa, imprimiendo instrucciones en pantalla de qué hacer o pidiéndole que ingrese algunos datos en algún punto de la ejecución del programa.\n",
    "\n",
    "### `Char`\n",
    "\n",
    "El tipo de dato de texto primitivo en Julia es `Char`. Cualquier símbolo envuelto en comillas ' ' será considerado como un dato de tipo `Char`:"
   ]
  },
  {
   "cell_type": "code",
   "execution_count": null,
   "id": "24db7b73",
   "metadata": {},
   "outputs": [],
   "source": [
    "'a'"
   ]
  },
  {
   "cell_type": "code",
   "execution_count": null,
   "id": "dcec22eb",
   "metadata": {},
   "outputs": [],
   "source": [
    "typeof('a')"
   ]
  },
  {
   "cell_type": "markdown",
   "id": "f0e7c7fa",
   "metadata": {},
   "source": [
    "La primera celda nos revela que Julia interpreta el símbolo `a` según su clave de [Unicode](https://en.wikipedia.org/wiki/Unicode), el cual es un estándar mundial que asigna una clave única a 144,697 caracteres en alrededor de 159 idiomas.\n",
    "\n",
    "Muchos símbolos con clave Unicode que pueden ser escritos con un comando de $\\LaTeX$ también se pueden escribir en Julia con el mismo comando usando \"auto completación\" con la tecla TAB. Por ejemplo, para escribir $\\alpha$ en el REPL de Julia o en una celda de Jupyter, basta escribir el comando de $\\LaTeX$ `\\alpha` y luego presionar la tecla TAB:"
   ]
  },
  {
   "cell_type": "code",
   "execution_count": null,
   "id": "6a750426",
   "metadata": {},
   "outputs": [],
   "source": [
    " #¡Escribe α al inicio de esta celda (sin copiar y pegar)!"
   ]
  },
  {
   "cell_type": "markdown",
   "id": "1b07844f",
   "metadata": {},
   "source": [
    "La \"auto completación\" significa que si escribimos un comando parcial de $\\LaTeX$ que Julia puede representar con un caracter Unicode y presionamos la tecla `Tab`, aparecerá una lista con todos los comandos de $\\LaTeX$ que empiezan con esas mismas letras y que pueden ser representados por un caracter Unicode."
   ]
  },
  {
   "cell_type": "code",
   "execution_count": null,
   "id": "d57cd2c5",
   "metadata": {},
   "outputs": [],
   "source": [
    "\\al #Mira las opciones presionando la tecla TAB"
   ]
  },
  {
   "cell_type": "markdown",
   "id": "0fa7834e",
   "metadata": {},
   "source": [
    "Los caracteres que pueden ser representados de esta manera se pueden consultar en la [documentación de Julia](https://docs.julialang.org/en/v1/manual/unicode-input/#Unicode-Input).\n",
    "\n",
    "Es importante recordar que todo símbolo que escribamos entre commillas ' ' será interpretado por Julia como un dato de tipo `Char` por lo que, por ejemplo, el siguiente código no funcionará"
   ]
  },
  {
   "cell_type": "code",
   "execution_count": null,
   "id": "eba9fc6b",
   "metadata": {},
   "outputs": [],
   "source": [
    "'5' + '3' #Julia los interpreta como Char, no como Int"
   ]
  },
  {
   "cell_type": "markdown",
   "id": "c06ceaf7",
   "metadata": {},
   "source": [
    "pues el operador **`+`** no está definido para datos de tipo `Char`."
   ]
  },
  {
   "cell_type": "markdown",
   "id": "4e4de5de",
   "metadata": {},
   "source": [
    "### `print` y `println`\n",
    "\n",
    "Las principales funciones para imprimir caracteres en Julia son `print` y `println`. La diferencia entre ellas es que `println` crea una _nueva línea_ después de haber impreso el caracter de su argumento."
   ]
  },
  {
   "cell_type": "code",
   "execution_count": null,
   "id": "87e182cf",
   "metadata": {},
   "outputs": [],
   "source": [
    "print('a')\n",
    "print(' ')\n",
    "print('b')\n",
    "#Compara el resultado de esta celda..."
   ]
  },
  {
   "cell_type": "code",
   "execution_count": null,
   "id": "08cb057c",
   "metadata": {},
   "outputs": [],
   "source": [
    "#...con el de ésta.\n",
    "println('a')\n",
    "print(' ')\n",
    "print('b')"
   ]
  },
  {
   "cell_type": "markdown",
   "id": "2e36f9bb",
   "metadata": {},
   "source": [
    "### `String`\n",
    "\n",
    "Trabajar texto siempre a nivel de caracteres resulta impráctico. Para escribir secuencias de caracteres, existe un tipo de dato llamado `String`. Para escribir un dato de tipo `String`, debemos envolver símbolos entre dobles comillas \" \":"
   ]
  },
  {
   "cell_type": "code",
   "execution_count": null,
   "id": "d96e479d",
   "metadata": {},
   "outputs": [],
   "source": [
    "\"¡Hola, mundo!\""
   ]
  },
  {
   "cell_type": "code",
   "execution_count": null,
   "id": "9bfe6c65",
   "metadata": {},
   "outputs": [],
   "source": [
    "typeof(\"¡Hola, mundo!\")"
   ]
  },
  {
   "cell_type": "markdown",
   "id": "85fe4080",
   "metadata": {},
   "source": [
    "Podemos utilizar las funciones `print` y `println` con datos de tipo `String` como lo hacíamos con los de tipo `Char`."
   ]
  },
  {
   "cell_type": "code",
   "execution_count": null,
   "id": "9a9f9928",
   "metadata": {
    "scrolled": true
   },
   "outputs": [],
   "source": [
    "print(\"¡Hola, mundo!\")\n",
    "#=Este programa es típicamente lo primero que alguien aprende a hacer\n",
    "  cuando conoce un nuevo lenguaje de programación de alto nivel=#"
   ]
  },
  {
   "cell_type": "markdown",
   "id": "b6f72cb1",
   "metadata": {},
   "source": [
    "Observamos que los operadores aritméticos tampoco funcionan con datos de tipo `String`:"
   ]
  },
  {
   "cell_type": "code",
   "execution_count": null,
   "id": "509a8357",
   "metadata": {},
   "outputs": [],
   "source": [
    "\"2.0\" - \"73.1\" #Julia los interpreta como String, no como Float"
   ]
  },
  {
   "cell_type": "markdown",
   "id": "bc9384ff",
   "metadata": {},
   "source": [
    "## Arreglos\n",
    "\n",
    "A menudo es deseable procesar conjuntos de datos en vez de datos por separado; por ejemplo, cuando queremos trabajar con vectores y matrices, graficar y analizar datos, o manipular imágenes. Para ello existen los **arreglos** de datos, una estructura que permite agrupar datos para que la información que contienen sea fácil de accesar y operar.\n",
    "\n",
    "En Julia, un arreglo se crea cuando un conjunto de datos separados por un espacio es delimitado con corchetes `[]`:"
   ]
  },
  {
   "cell_type": "code",
   "execution_count": 16,
   "id": "b45b012a",
   "metadata": {},
   "outputs": [
    {
     "data": {
      "text/plain": [
       "1×8 Matrix{Int64}:\n",
       " 1  2  3  4  5  6  7  8"
      ]
     },
     "execution_count": 16,
     "metadata": {},
     "output_type": "execute_result"
    }
   ],
   "source": [
    "[ 1 2 3 4 5 6 7 8 ]"
   ]
  },
  {
   "cell_type": "markdown",
   "id": "007db5ac",
   "metadata": {},
   "source": [
    "Vemos que surge un nuevo tipo de dato compuesto para el arreglo anterior: `Matrix{Int64}`. Además, Julia nos informa que nuestra matriz de enteros es de `1` renglón y `8` columnas. Más aún, si le aplicamos la función `typeof()` al arreglo anterior"
   ]
  },
  {
   "cell_type": "code",
   "execution_count": 17,
   "id": "74495daf",
   "metadata": {},
   "outputs": [
    {
     "data": {
      "text/plain": [
       "Matrix{Int64}\u001b[90m (alias for \u001b[39m\u001b[90mArray{Int64, 2}\u001b[39m\u001b[90m)\u001b[39m"
      ]
     },
     "execution_count": 17,
     "metadata": {},
     "output_type": "execute_result"
    }
   ],
   "source": [
    "typeof([ 1 2 3 4 5 6 7 8 ])"
   ]
  },
  {
   "cell_type": "markdown",
   "id": "fc8bcfea",
   "metadata": {},
   "source": [
    "Podemos ver que `Matrix{Int64}` es simplemente un alias para el tipo de dato (compuesto) `Array{Int64, 2}`. `Int64` se refiere al tipo de los datos contenidos en el arreglo y `2` se refiere al número de dimensiones del arreglo (como Julia lo considera una matriz de un renglón y ocho columnas, tiene dos)."
   ]
  },
  {
   "cell_type": "markdown",
   "id": "617370a7",
   "metadata": {},
   "source": [
    "### Matrices\n",
    "\n",
    "En el _notebook_ [`1.1-Operadores_aritméticos_y_tipos_de_datos_numéricos.ipynb`](./1.1-Operadores_aritméticos_y_tipos_de_datos_numéricos.ipynb) vimos cómo hacer operaciones entre números. Sin embargo, dada la utilidad de acomodar números en arreglos -como vectores y matrices- y hacer operaciones entre ellos, existe una implementación de lo anterior en Julia.\n",
    "\n",
    "Para escribir una matriz de más de un renglón, separamos a los vectores renglón utilizando el símbolo `;`:"
   ]
  },
  {
   "cell_type": "code",
   "execution_count": null,
   "id": "57006dcf",
   "metadata": {
    "scrolled": false
   },
   "outputs": [],
   "source": [
    "[1 2 3 ; 4 5 6 ; 7 8 9]"
   ]
  },
  {
   "cell_type": "markdown",
   "id": "337fc5df",
   "metadata": {},
   "source": [
    "Podemos usar los operadores aritméticos **`+`**, **`-`** y **`*`** para hacer operaciones entre matrices, siempre que las dimensiones coincidan de tal forma que la operacion esté bien definida:"
   ]
  },
  {
   "cell_type": "code",
   "execution_count": null,
   "id": "cac1f3a8",
   "metadata": {},
   "outputs": [],
   "source": [
    "[1 2 3 ; 4 5 6 ; 7 8 9] + [1 0 0 ; 0 0 0 ; 0 1 1]"
   ]
  },
  {
   "cell_type": "code",
   "execution_count": null,
   "id": "77d522e8",
   "metadata": {},
   "outputs": [],
   "source": [
    "[1 2 3 ; 4 5 6] - [1 0 0 ; 0 0 0 ; 0 1 1]\n",
    "#Obtenemos un error porque las dimensiones no coindicen"
   ]
  },
  {
   "cell_type": "code",
   "execution_count": null,
   "id": "c28004ae",
   "metadata": {},
   "outputs": [],
   "source": [
    "[1 2 3 ; 4 5 6] * [1 2 ; 3 4 ; 5 6]\n",
    "#=En este ejemplo, a pesar de que las dimensiones difieran, ¡lo hacen de\n",
    "  tal forma que la multiplicación de las matrices esté bien definida!=#"
   ]
  },
  {
   "cell_type": "markdown",
   "id": "9ac3bf08",
   "metadata": {},
   "source": [
    "Más aún, el operador **`*`** se puede usar para multiplicar una matriz por un escalar:"
   ]
  },
  {
   "cell_type": "code",
   "execution_count": null,
   "id": "cc8a7831",
   "metadata": {
    "scrolled": true
   },
   "outputs": [],
   "source": [
    "5 * [1 2 3 ; 4 5 6 ; 7 8 9]"
   ]
  },
  {
   "cell_type": "code",
   "execution_count": null,
   "id": "ce0db540",
   "metadata": {},
   "outputs": [],
   "source": [
    "[1 2 3 ; 4 5 6 ; 7 8 9] * 5"
   ]
  },
  {
   "cell_type": "markdown",
   "id": "52e55178",
   "metadata": {},
   "source": [
    "Sin embargo, esto falla para otros tipos de operaciones:"
   ]
  },
  {
   "cell_type": "code",
   "execution_count": null,
   "id": "d079c415",
   "metadata": {},
   "outputs": [],
   "source": [
    "[1 2 3 ; 4 5 6 ; 7 8 9] + 5 #Esto nos devuelve un mensaje de error"
   ]
  },
  {
   "cell_type": "markdown",
   "id": "903d5e1c",
   "metadata": {},
   "source": [
    "Si queremos aplicar un operador a _cada una de las entradas de un arreglo_, generalmente funciona colocar un punto **`.`** antes del operador, como en los siguientes ejemplos:"
   ]
  },
  {
   "cell_type": "code",
   "execution_count": null,
   "id": "83f5acd9",
   "metadata": {},
   "outputs": [],
   "source": [
    "[1 2 3 ; 4 5 6 ; 7 8 9] .+ 5 #Esto suma 5 a cada entrada de la matriz"
   ]
  },
  {
   "cell_type": "code",
   "execution_count": null,
   "id": "d055d4a3",
   "metadata": {},
   "outputs": [],
   "source": [
    "[6.0 3.5 7.2] .- 1 #Esto resta el flotante 1.0 a cada entrada del vector"
   ]
  },
  {
   "cell_type": "markdown",
   "id": "46893b73",
   "metadata": {},
   "source": [
    "**Nota** A pesar de que en este caso utilicemos los operadores aritméticos para hacer operaciones entre _arreglos de números_ en vez de sólo números, estos tienen la misma precedencia y asociatividad que discutimos en el _notebook_ [`1.1-Operadores_aritméticos_y_tipos_de_datos_numéricos.ipynb`](./1.1-Operadores_aritméticos_y_tipos_de_datos_numéricos.ipynb)."
   ]
  },
  {
   "cell_type": "markdown",
   "id": "63308d7c",
   "metadata": {},
   "source": [
    "**Ejercicio** ¿Qué tipo de dato tiene la matriz `[1 2 3 ; 4 5 6 ; 7 8 9]`? ¿Es un tipo de dato primitivo o compuesto?"
   ]
  },
  {
   "cell_type": "code",
   "execution_count": null,
   "id": "261485b7",
   "metadata": {},
   "outputs": [],
   "source": [
    " #¿Recuerdas qué función usar para averiguar esto?"
   ]
  },
  {
   "cell_type": "markdown",
   "id": "76e05395",
   "metadata": {},
   "source": [
    "**Nota** Es importante separar las entradas de las matrices con espacios pues, de lo contario, Julia las intentará interpretar como cifras de un mismo número. Sin embargo, el separador de renglones `;` no necesita que dejemos espacios antes ni después de él; aún así, recomendamos esta práctica para tener mayor claridad y legibilidad. "
   ]
  },
  {
   "cell_type": "markdown",
   "id": "d5d6761d",
   "metadata": {},
   "source": [
    "### Vectores\n",
    "\n",
    "Siguiendo la discusión anterior, la forma de escribir vectores tal que podamos aplicarles matrices usando el operador **`*`** es escribiéndolos como _vectores columna_, es decir, como matrices de una sola columna."
   ]
  },
  {
   "cell_type": "code",
   "execution_count": null,
   "id": "206beb31",
   "metadata": {},
   "outputs": [],
   "source": [
    "[1 ; 2 ; 3]"
   ]
  },
  {
   "cell_type": "code",
   "execution_count": null,
   "id": "15d43c36",
   "metadata": {},
   "outputs": [],
   "source": [
    "[1 0 0 ; 0 1 0 ; 0 0 1] * [1 ; 2 ; 3] #Aplicando la matriz identidad de 3x3 a (1, 2, 3) ∈ R^3"
   ]
  },
  {
   "cell_type": "markdown",
   "id": "31b4d29a",
   "metadata": {},
   "source": [
    "Una forma equivalente de escribir vectores columna es separando cada entrada con un símbolo de coma `,`:"
   ]
  },
  {
   "cell_type": "code",
   "execution_count": null,
   "id": "7b385587",
   "metadata": {},
   "outputs": [],
   "source": [
    "[1, 2, 3]"
   ]
  },
  {
   "cell_type": "code",
   "execution_count": null,
   "id": "43e3f681",
   "metadata": {},
   "outputs": [],
   "source": [
    "[1 0 0 ; 0 1 0 ; 0 0 1] * [1, 2, 3]"
   ]
  },
  {
   "cell_type": "markdown",
   "id": "a352f1a3",
   "metadata": {},
   "source": [
    "Es decir, si escribimos un arreglo de números separados por comas como `[a, b, c, d]`, Julia lo interpretará como el vector columna con entradas `a`, `b`, `c` y `d`, equivalente a la matriz de una sola columna `[a ; b ; c ; d]`.\n",
    "\n",
    "Esto es reminiscente de cómo, en matemáticas, normalmente escribimos vectores de algún espacio $K^n$ (donde $K$ es un campo) como $(a, b, c, \\dots)$ pero, al multiplicarlos por una matriz, por conveniencia preferimos escribirlos como\n",
    "\n",
    "$$\\begin{pmatrix} a \\\\ b \\\\ c \\\\ \\dots \\end{pmatrix},$$\n",
    "\n",
    "lo cual implica una equivalencia entre este vector columna y la $n$-tupla separada por comas anterior."
   ]
  },
  {
   "cell_type": "markdown",
   "id": "d9d566fc",
   "metadata": {},
   "source": [
    "**Ejercicio** ¿Qué tipo de dato tiene el vector `[6.0, 3.5, 7.2]`? Verifícalo."
   ]
  },
  {
   "cell_type": "markdown",
   "id": "b67af3aa",
   "metadata": {},
   "source": [
    "### Índices y subarreglos\n",
    "\n",
    "¿Qué hacemos si queremos acceder al valor de alguna entrada específica de un vector? Julia le asigna a cada entrada de un vector un **índice** que _empieza por el número `1`_. Para acceder a la $i$-ésima entrada de un vector, debemos escribir `[i]` a la derecha del vector _sin dejar espacio_: "
   ]
  },
  {
   "cell_type": "code",
   "execution_count": null,
   "id": "79417565",
   "metadata": {},
   "outputs": [],
   "source": [
    "[10, 8, 5][1]"
   ]
  },
  {
   "cell_type": "code",
   "execution_count": null,
   "id": "adfa59f8",
   "metadata": {},
   "outputs": [],
   "source": [
    "[10, 8, 5][2]"
   ]
  },
  {
   "cell_type": "code",
   "execution_count": null,
   "id": "5ebfd884",
   "metadata": {},
   "outputs": [],
   "source": [
    "[10, 8, 5] [3] #Obtenemos un error -inicialmente- por haber dejado un espacio"
   ]
  },
  {
   "cell_type": "markdown",
   "id": "9fd17b15",
   "metadata": {},
   "source": [
    "**Ejercicio** Averigua qué sucede cuando intentamos acceder a la $i$-ésima entrada de la siguiente matriz:"
   ]
  },
  {
   "cell_type": "code",
   "execution_count": null,
   "id": "475a00e3",
   "metadata": {},
   "outputs": [],
   "source": [
    "[1 2 3 ; 4 5 6 ; 7 8 9]"
   ]
  },
  {
   "cell_type": "markdown",
   "id": "adf5d84a",
   "metadata": {},
   "source": [
    "Una manera más sencilla de acceder a la entrada del renglón $i$ y columna $j$ de una matriz es utilizando la sintáxis `[i,j]`:"
   ]
  },
  {
   "cell_type": "code",
   "execution_count": null,
   "id": "e226bdc3",
   "metadata": {},
   "outputs": [],
   "source": [
    "[1 2 3 ; 4 5 6 ; 7 8 9][2,2]"
   ]
  },
  {
   "cell_type": "code",
   "execution_count": null,
   "id": "d471494a",
   "metadata": {},
   "outputs": [],
   "source": [
    "[1 2 3 ; 4 5 6 ; 7 8 9][3,1]"
   ]
  },
  {
   "cell_type": "markdown",
   "id": "9b4e36ad",
   "metadata": {},
   "source": [
    "Nuestra siguiente pregunta es: ¿qué hacemos si queremos acceder a algún _vector renglón_ o _vector columna_ de una matriz? Para acceder al $i$-ésimo vector renglón, utilizamos la sintáxis `[i,:]`:"
   ]
  },
  {
   "cell_type": "code",
   "execution_count": null,
   "id": "2eec926e",
   "metadata": {},
   "outputs": [],
   "source": [
    "[1 2 3 ; 4 5 6 ; 7 8 9][3]   #Compara el resultado de esta celda..."
   ]
  },
  {
   "cell_type": "code",
   "execution_count": null,
   "id": "0d44a563",
   "metadata": {},
   "outputs": [],
   "source": [
    "[1 2 3 ; 4 5 6 ; 7 8 9][3,:] #...con el de ésta."
   ]
  },
  {
   "cell_type": "markdown",
   "id": "78cd711b",
   "metadata": {},
   "source": [
    "Análogamente, para acceder al `j`-ésimo vector columna, utilizamos la sintáxis `[:,j]`:"
   ]
  },
  {
   "cell_type": "code",
   "execution_count": null,
   "id": "255a1abd",
   "metadata": {},
   "outputs": [],
   "source": [
    "[1 2 3 ; 4 5 6 ; 7 8 9][:,3]"
   ]
  },
  {
   "cell_type": "markdown",
   "id": "3f1def08",
   "metadata": {},
   "source": [
    "Puedes pensar que el símbolo `:` significa \"todos los valores posibles\" para el índice correspondiente. La razón de esto quedará clara más adelante cuando veamos _rangos_.\n",
    "\n",
    "Los ejemplos anteriores muestran que un arreglo contiene **subarreglos** a los cuales podemos acceder. Más generalmente, para obtener un arreglo con las entradas $i$, $j$ y $k$ de otro arreglo, podemos utilizar la sintáxis `[[i,j,k]]`:"
   ]
  },
  {
   "cell_type": "code",
   "execution_count": null,
   "id": "7dd440df",
   "metadata": {},
   "outputs": [],
   "source": [
    "[1, 3, 5, 7, 9][[1,3,5]]"
   ]
  },
  {
   "cell_type": "markdown",
   "id": "2ccc7e68",
   "metadata": {},
   "source": [
    "Notamos que en este caso en vez de escribir un sólo índice dentro de los corchetes `[]`, escribimos un _arreglo de índices_, obteniendo como resultado el _subarreglo_ que se obtiene con las entradas correspondientes a esos índices."
   ]
  },
  {
   "cell_type": "markdown",
   "id": "33bc3b1b",
   "metadata": {},
   "source": [
    "### `String` como arreglos de `Char`\n",
    "\n",
    "Los datos de tipo `String` en realidad son arreglos de datos de tipo `Char`, por lo que podemos acceder a cualquiera de sus entradas (que serán datos de tipo `Char`) o de sus subarreglos (que serán de tipo `String`):"
   ]
  },
  {
   "cell_type": "code",
   "execution_count": null,
   "id": "462cb71a",
   "metadata": {},
   "outputs": [],
   "source": [
    "\"¡Hola, mundo!\""
   ]
  },
  {
   "cell_type": "markdown",
   "id": "f18c8235",
   "metadata": {},
   "source": [
    "**Ejercicio** ¿Cuántas palabras puedes formar con las letras de la frase \"¡Hola, mundo!\"? Obten los _Strings_ correspondientes accediendo a subarreglos del `String` `\"¡Hola, mundo!\"`."
   ]
  },
  {
   "cell_type": "code",
   "execution_count": null,
   "id": "c5d2e15c",
   "metadata": {},
   "outputs": [],
   "source": []
  },
  {
   "cell_type": "markdown",
   "id": "6dfbf469",
   "metadata": {},
   "source": [
    "### `length`"
   ]
  },
  {
   "cell_type": "code",
   "execution_count": null,
   "id": "f631e7eb",
   "metadata": {},
   "outputs": [],
   "source": []
  },
  {
   "cell_type": "markdown",
   "id": "616ffc26",
   "metadata": {},
   "source": [
    "## Recursos complementarios\n",
    "\n",
    "Documentación de Julia:\n",
    "* [Manual de arreglos](https://docs.julialang.org/en/v1/manual/arrays/),\n",
    "* [Manual de `String`s](https://docs.julialang.org/en/v1/manual/strings/),\n",
    "* [Documentación de arreglos](https://docs.julialang.org/en/v1/base/arrays/#Concatenation-and-permutation)."
   ]
  }
 ],
 "metadata": {
  "kernelspec": {
   "display_name": "Julia 1.8.4",
   "language": "julia",
   "name": "julia-1.8"
  },
  "language_info": {
   "file_extension": ".jl",
   "mimetype": "application/julia",
   "name": "julia",
   "version": "1.8.4"
  }
 },
 "nbformat": 4,
 "nbformat_minor": 5
}
