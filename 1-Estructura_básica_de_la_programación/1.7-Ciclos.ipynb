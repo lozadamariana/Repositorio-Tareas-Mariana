{
 "cells": [
  {
   "cell_type": "markdown",
   "id": "4f3bb035",
   "metadata": {},
   "source": [
    "# Ciclos\n",
    "\n",
    "Es muy común que, al programar, necesitemos implementar alguno de los siguientes procesos:\n",
    "* repetir una secuencia de instrucciones mientras cierta condición se cumpla,\n",
    "* aplicar una misma secuencia de instrucciones para cada elemento de un arreglo,\n",
    "* ejecutar una serie de instrucciones _recursivamente_; es decir, que una de las instrucciones de la serie sea volver a ejecutar toda la serie de instrucciones.\n",
    "\n",
    "En la mayoría de los lenguajes de programación, estas funcionalidades están implementadas a través de **ciclos**. Dado que en los primeros dos procesos se _itera_ sobre una condición o sobre los elementos de un arreglo, respectivamente, se conocen como ciclos **iterativos**, mientras que el tercero se conoce como un ciclo **recursivo**. "
   ]
  },
  {
   "cell_type": "markdown",
   "id": "6d45d4a5",
   "metadata": {},
   "source": [
    "## Ciclos iterativos\n",
    "\n",
    "### Ciclos `while` (_while loops_)\n",
    "\n",
    "Los ciclos que ejecutan repetidamente una secuencia de instrucciones _mientras_ cierta condición se cumpla se conocen como ciclos _while_. Su sintáxis en Julia es la siguiente:\n",
    "\n",
    "$\\color{green}{\\textbf{while }} \\text{condition}$\n",
    "\n",
    "$\\quad \\quad \\text{block}$\n",
    "\n",
    "$\\color{green}{\\textbf{end}}$\n",
    "\n",
    "Al ejecutar este código:\n",
    "1. Julia evualará la expresión $\\text{condition}$.\n",
    "1. Si $\\text{condition}$ se evalúa a `true`, ejecutará el bloque de código $\\text{block}$ y regresará al paso 1.\n",
    "1. Si $\\text{condition}$ se evalúa a `false`, **no** ejecutará el bloque de código $\\text{block}$ **ni tampoco** volverá al paso 1, sino que seguirá ejecutando las instrucciones debajo de $\\color{green}{\\textbf{end}}$ (de haberlas).\n",
    "\n",
    "Observa que, para que Julia pueda llegar al paso 3 y terminar de ejecutar el ciclo _while_, es necesario que el bloque de código $\\text{block}$ **modifique (eventualmente) el valor de** $\\text{condition}$; ¡de lo contrario, la serie de instrucciones en $\\text{block}$ se ejecutará infinitamente! Si llegamos a pedirle a la computadora que **ejecute un proceso infinito**, deberemos reiniciar nuestro _kernel_ para poder seguir trabajando.\n",
    "\n",
    "Un ejemplo de un ciclo _while_ bien implementado (es decir, finito) es el siguiente:"
   ]
  },
  {
   "cell_type": "code",
   "execution_count": null,
   "id": "658ad23c",
   "metadata": {},
   "outputs": [],
   "source": [
    "x = 0          # Asignamos el valor 0 a una variable 'x'.\n",
    "\n",
    "while x <= 10  # Iniciamos un ciclo que se repetirá mientras x\n",
    "               # tenga un valor menor o igual a 10.\n",
    "    println(x) # Imprimimos el valor de 'x'.\n",
    "    x += 1     # ¡Aumentamos el valor de 'x' para que el ciclo termine\n",
    "               # eventualmente y no se haga un proceso infinito!\n",
    "end"
   ]
  },
  {
   "cell_type": "markdown",
   "id": "7fc323b4",
   "metadata": {},
   "source": [
    "mientras que dos ejemplos de ciclos _while_ **mal implementados** (es decir, infinitos) son los siguientes:"
   ]
  },
  {
   "cell_type": "code",
   "execution_count": null,
   "id": "b03e53ac",
   "metadata": {},
   "outputs": [],
   "source": [
    "x = 0          # Asignamos el valor 0 a una variable 'x'.\n",
    "\n",
    "while x <= 10  # Iniciamos un ciclo que se repetirá mientras x\n",
    "               # tenga un valor menor o igual a 10.\n",
    "    println(x) # Imprimimos el valor de 'x'.\n",
    "               # No modificamos el valor de 'x', ¡así que siempre valdrá 0 \n",
    "end            # y el ciclo se volverá a ejecutar infinitamente!"
   ]
  },
  {
   "cell_type": "code",
   "execution_count": null,
   "id": "ca479bb4",
   "metadata": {},
   "outputs": [],
   "source": [
    "x = 0          # Asignamos el valor 0 a una variable 'x'.\n",
    "\n",
    "while x <= 10  # Iniciamos un ciclo que se repetirá mientras x\n",
    "               # tenga un valor menor o igual a 10.\n",
    "    println(x) # Imprimimos el valor de 'x'.\n",
    "    x -= 1     # Modificamos el valor de 'x', ¡pero no de forma que\n",
    "               # eventualmente la condición no se cumpla!\n",
    "end"
   ]
  },
  {
   "cell_type": "markdown",
   "id": "cd424951",
   "metadata": {},
   "source": [
    "Una aplicación muy importante de los ciclos _while_ es para repetir un cálculo numérico hasta que éste tenga la precisión que deseamos. Como de costumbre, la precisión se determina como el valor absoluto de la diferencia entre el valor que obtenemos (el resultado del cálculo) y el valor que esperamos (o bien, el valor exacto), por lo que un ejemplo de pseudocódigo que usa un ciclo while de esta manera se vería como sigue:\n",
    "\n",
    "$\\varepsilon = 0.1 \\quad \\quad \\quad \\quad \\quad \\quad \\color{blue}{\\text{# Definimos la cota mínima de precisión que queremos.}}$\n",
    "\n",
    "$\\text{p} = 3 \\ \\ \\ \\quad \\quad \\quad \\quad \\quad \\quad \\color{blue}{\\text{# Asignamos un valor a nuestra variable.}}$\n",
    "\n",
    "$\\color{green}{\\textbf{while }} \\text{abs}(\\pi-\\text{p}) > \\varepsilon \\quad \\color{blue}{\\text{# Mientras no se tenga la precisión deseada...}}$\n",
    "\n",
    "$\\quad \\quad \\text{block} \\ \\ \\ \\quad \\quad \\quad \\quad \\color{blue}{\\text{# Cálculos que deriven en una reasignación del valor de}}$\n",
    "\n",
    "$\\ \\ \\ \\quad \\quad \\quad \\quad \\quad \\quad \\quad \\quad \\color{blue}{\\text{# la variable p y lo acerquen al valor de } \\pi}.$\n",
    "\n",
    "$\\color{green}{\\textbf{end}}$"
   ]
  },
  {
   "cell_type": "markdown",
   "id": "48cdb528",
   "metadata": {},
   "source": [
    "Usaremos los ciclos _while_ de esta forma frecuentemente cuando veamos métodos numéricos."
   ]
  },
  {
   "cell_type": "markdown",
   "id": "06c25079",
   "metadata": {},
   "source": [
    "**Ejercicio** Implementa un código que aproxime la épsilon de máquina para `Float64` **sin utilizar la función `eps`**."
   ]
  },
  {
   "cell_type": "code",
   "execution_count": null,
   "id": "2bc2fdfa",
   "metadata": {},
   "outputs": [],
   "source": [
    "# Tu código comentado va aquí :D"
   ]
  },
  {
   "cell_type": "markdown",
   "id": "3fd57620",
   "metadata": {},
   "source": [
    "### Ciclos `for` (_for loops_)\n",
    "\n",
    "Los ciclos que aplican una misma secuencia de instrucciones _para_ cada elemento de un arreglo se conocen como ciclos _for_. Su sintáxis en Julia es la siguiente:\n",
    "\n",
    "$\\color{green}{\\textbf{for }} \\text{variable } \\color{magenta}{\\textbf{in }} \\text{array}$\n",
    "\n",
    "$\\quad \\quad \\text{block}$\n",
    "\n",
    "$\\color{green}{\\textbf{end}}$\n",
    "\n",
    "Al ejecutar este código:\n",
    "1. Julia tomará el primer valor del arreglo $\\text{array}$ y se lo asignará a una variable $\\text{variable}$.\n",
    "1. Julia ejecutará el bloque de código $\\text{block}$, **el cual puede utilizar a la variable** $\\text{variable}$.\n",
    "1. Julia tomará el siguiente valor del arreglo $\\text{array}$ y se lo asignará a una variable $\\text{variable}$.\n",
    "1. Julia repetirá los pasos 2 y 3 hasta que no queden valores en el arreglo por asignar.\n",
    "\n",
    "Algunos ejemplos de ciclos _for_ que utilizan a las variables a las cuales se les asignan los valores del arreglo son los siguientes:"
   ]
  },
  {
   "cell_type": "code",
   "execution_count": null,
   "id": "a7bff5c4",
   "metadata": {},
   "outputs": [],
   "source": [
    "A = [0, 1, 2, 3, 4, 5, 6, 7, 8, 9, 10]\n",
    "\n",
    "for x in A     # Para cada elemento de A, asignamos su valor a 'x'\n",
    "\n",
    "    println(x) # e imprimimos el valor asignado a 'x'.\n",
    "    \n",
    "end"
   ]
  },
  {
   "cell_type": "code",
   "execution_count": null,
   "id": "afed3c78",
   "metadata": {},
   "outputs": [],
   "source": [
    "sum = 0\n",
    "\n",
    "for n in [1, 2, 3, 4, 5, 6, 7, 8, 9, 10, 11, 12, 13, 14, 15]\n",
    "    \n",
    "    sum += 1 / ( n*(n+1) )\n",
    "    \n",
    "end\n",
    "\n",
    "sum"
   ]
  },
  {
   "cell_type": "markdown",
   "id": "060341ab",
   "metadata": {},
   "source": [
    "Observa que el primer ejemplo de ciclo _for_ es totalmente equivalente al primer ciclo _while_ que vimos en este _notebook_, mientras que el segundo ciclo _for_ es la suma parcial con los primeros 15 términos de la serie\n",
    "\n",
    "$$\\sum_{n=1}^\\infty \\frac{1}{(n(n+1))},$$\n",
    "\n",
    "la cual es igual a $1$, como mencionamos en el _notebook_ [`1.2-Sistemas_numéricos_de_punto_flotante_y_error_numérico.ipynb`](./1.2-Sistemas_numéricos_de_punto_flotante_y_error_numérico.ipynb); observa qué sucede si agregas más valores del índice $n$ en el arreglo, o si quitas algunos valores. \n",
    "\n",
    "Un ejemplo de un ciclo _for_ que **no** utiliza a las variables creadas con elementos del arreglo es el siguiente ciclo \"de afuera\" en la siguiente expresión:"
   ]
  },
  {
   "cell_type": "code",
   "execution_count": null,
   "id": "f25b0156",
   "metadata": {},
   "outputs": [],
   "source": [
    "A = [0, 1, 2, 3, 4, 5, 6, 7, 8, 9, 10]\n",
    "\n",
    "for y in ['a', \"Hola\", 3.7]\n",
    "\n",
    "    for x in A     # Para cada elemento de A, asignamos su valor a 'x'\n",
    "\n",
    "        println(x) # e imprimimos el valor asignado a 'x'.\n",
    "\n",
    "    end\n",
    "    \n",
    "end"
   ]
  },
  {
   "cell_type": "markdown",
   "id": "e53d790b",
   "metadata": {},
   "source": [
    "#### Rangos\n",
    "\n",
    "Como has observado, es común utilizar ciclos _for_ con arreglos de números espaciados uniformemente. A estos se les conocen como _rangos_. En Julia, tienen la siguiente sintáxis:\n",
    "\n",
    "$$\\color{green}{\\text{a}}\\color{magenta}{\\textbf{:}}\\color{green}{\\text{b}}\\color{magenta}{\\textbf{:}}\\color{green}{\\text{c}}$$\n",
    "\n",
    "Al ejecutar este código:\n",
    "1. Julia creará un arreglo que tenga a $\\color{green}{\\text{a}}$ como su primer entrada.\n",
    "2. Después, agregará una nueva entrada al arreglo sumándole $\\color{green}{\\text{b}}$ al valor de su última entrada.\n",
    "3. Repetirá el paso 2 hasta que la suma de $\\color{green}{\\text{b}}$ con el valor de su última entrada sea mayor a $\\color{green}{\\text{c}}$; el valor mayor a $\\color{green}{\\text{c}}$ **no** será incluido en el arreglo.\n",
    "\n",
    "El siguiente ejemplo utiliza un rango como arreglo en un ciclo _for_ e imprime a los elementos del rango:"
   ]
  },
  {
   "cell_type": "code",
   "execution_count": null,
   "id": "d673dd12",
   "metadata": {},
   "outputs": [],
   "source": [
    "for x in 1:0.2:5.1\n",
    "    \n",
    "    println(x)\n",
    "    \n",
    "end"
   ]
  },
  {
   "cell_type": "markdown",
   "id": "ac70e3c5",
   "metadata": {},
   "source": [
    "Si escribimos un rango de la forma\n",
    "\n",
    "$$\\color{green}{\\text{a}}\\color{magenta}{\\textbf{:}}\\color{green}{\\text{c}}$$\n",
    "\n",
    "Julia asumirá que la diferencia entre los elementos del arreglo es $1$. El siguiente ejemplo usa un rango para calcular la suma parcial de la serie mencionada anteriormente:"
   ]
  },
  {
   "cell_type": "code",
   "execution_count": null,
   "id": "3c974b6c",
   "metadata": {},
   "outputs": [],
   "source": [
    "sum = 0\n",
    "\n",
    "for n in 1:6\n",
    "    \n",
    "    sum += 1 / ( n*(n+1) )\n",
    "    \n",
    "end\n",
    "\n",
    "sum"
   ]
  },
  {
   "cell_type": "markdown",
   "id": "465a6657",
   "metadata": {},
   "source": [
    "Observemos que esta forma equivalente de calcular la suma parcial tiene la ventaja de ser más legible y más fácil de modificar; para obtener la suma de los primeros $n$ términos, sólo debemos cambiar el número de la derecha del rango.\n",
    "\n",
    "Si recuerdas, en el _notebook_ [`1.3-Tipos_de_datos_de_texto_y_arreglos.ipynb`](./1.3-Tipos_de_datos_de_texto_y_arreglos.ipynb) utilizamos arreglos de índices para acceder a subarreglos de un arreglo, por ejemplo:"
   ]
  },
  {
   "cell_type": "code",
   "execution_count": null,
   "id": "67dbcc24",
   "metadata": {},
   "outputs": [],
   "source": [
    "[1, 3, 5, 7, 9][[1,3,5]]"
   ]
  },
  {
   "cell_type": "markdown",
   "id": "a77f933a",
   "metadata": {},
   "source": [
    "En particular, podemos usar rangos como arreglos de índices para este fin:"
   ]
  },
  {
   "cell_type": "code",
   "execution_count": null,
   "id": "6ba1bb32",
   "metadata": {},
   "outputs": [],
   "source": [
    "[1, 3, 5, 7, 9][1:2:5]"
   ]
  },
  {
   "cell_type": "markdown",
   "id": "867dfa19",
   "metadata": {},
   "source": [
    "Por esto es que, cuando sólo ponemos el símbolo `:` sin especificar los parámetros del rango de índices, Julia lo interpreta como _todo el rango de índices posible_. Así es como pudimos, por ejemplo, obtener vectores columna y vectores renglón de una matriz:"
   ]
  },
  {
   "cell_type": "code",
   "execution_count": null,
   "id": "3d03d8df",
   "metadata": {},
   "outputs": [],
   "source": [
    "[1 2 3 ; 4 5 6 ; 7 8 9][3,:]\n",
    "#= Devuelve un arreglo con todos los índices posibles de columna\n",
    "   para el índice 3 de renglón =#"
   ]
  },
  {
   "cell_type": "code",
   "execution_count": null,
   "id": "6f7239df",
   "metadata": {},
   "outputs": [],
   "source": [
    "[1 2 3 ; 4 5 6 ; 7 8 9][:,2]\n",
    "#= Devuelve un arreglo con todos los índices posibles de renglón\n",
    "   para el índice 2 de columna =#"
   ]
  },
  {
   "cell_type": "markdown",
   "id": "bacb332c",
   "metadata": {},
   "source": [
    "#### Creación de arreglos _por comprensión_\n",
    "\n",
    "En teoría de conjuntos, podemos describir a un conjunto _por extensión_\n",
    "\n",
    "$$A = \\{ 1, 2, 3, 4, 5, 6, 7, 8, 9, 10 \\}$$\n",
    "\n",
    "o _por comprensión_\n",
    "\n",
    "$$A = \\{ x \\in \\mathbb{N} \\mid 1 \\leq x \\leq 10 \\},$$\n",
    "\n",
    "es decir, especificando qué propiedad deben cumplir los elementos del conjunto _en vez de_ enumerarlos a todos.\n",
    "\n",
    "En Julia, hemos visto que podemos crear arreglos por extensión"
   ]
  },
  {
   "cell_type": "code",
   "execution_count": null,
   "id": "86fd259a",
   "metadata": {},
   "outputs": [],
   "source": [
    "A = [1, 2, 3, 4, 5, 6, 7, 8, 9, 10]"
   ]
  },
  {
   "cell_type": "markdown",
   "id": "1ac29b80",
   "metadata": {},
   "source": [
    "e, implícitamente, que los rangos son una manera de crear arreglos por comprensión"
   ]
  },
  {
   "cell_type": "code",
   "execution_count": null,
   "id": "99ffeefe",
   "metadata": {},
   "outputs": [],
   "source": [
    "B = 1:10"
   ]
  },
  {
   "cell_type": "code",
   "execution_count": null,
   "id": "05004203",
   "metadata": {},
   "outputs": [],
   "source": [
    "A == B"
   ]
  },
  {
   "cell_type": "markdown",
   "id": "31ca9732",
   "metadata": {},
   "source": [
    "Los rangos nos pueden a ayudar a definir arreglos por comprensión de maneras más interesantes. Por ejemplo, el conjunto\n",
    "\n",
    "$$ C = \\{1, 4, 9, 16, 25\\} = \\{ x^2 \\mid x\\in\\mathbb{N} \\land 1\\leq x\\leq 5 \\}  $$\n",
    "\n",
    "puede ser implementado con el arreglo"
   ]
  },
  {
   "cell_type": "code",
   "execution_count": null,
   "id": "45200318",
   "metadata": {},
   "outputs": [],
   "source": [
    "C = [ x^2 for x in 1:5 ]"
   ]
  },
  {
   "cell_type": "markdown",
   "id": "6cc0975d",
   "metadata": {},
   "source": [
    "Incluso podemos utilizar declaraciones condicionales dentro de la propiedad que los elementos deben cumplir para pertenecer al arreglo, por ejemplo:"
   ]
  },
  {
   "cell_type": "code",
   "execution_count": null,
   "id": "43b9e297",
   "metadata": {},
   "outputs": [],
   "source": [
    "D = [ x^2 for x in -10:10 if (x >= 1 && x <= 5) ]"
   ]
  },
  {
   "cell_type": "code",
   "execution_count": null,
   "id": "1d14a181",
   "metadata": {},
   "outputs": [],
   "source": [
    "C == D"
   ]
  },
  {
   "cell_type": "markdown",
   "id": "9b58d144",
   "metadata": {},
   "source": [
    "A este tipo de expresiones en Julia se les conoce como _comprehensions_, y su sintáxis general es la siguiente:\n",
    "\n",
    "$$\\text{expression } \\color{green}{\\textbf{for }} \\text{variable } \\color{magenta}{\\textbf{in }} \\text{range } \\color{green}{\\textbf{if }} \\text{condition}$$\n",
    "\n",
    "donde $\\text{expression}$ es una expresión que define a los elementos del arreglo, $\\text{variable}$ es una variable que _puede_ aparecer en $\\text{expression}$, y la declaración condicional $\\color{green}{\\textbf{if }} \\text{condition}$ es opcional.\n",
    "\n",
    "Podemos utilizar un _comprehension_ donde la variable del ciclo _for_ **no** aparezca en la expresión que define a los elementos para definir un arreglo con una cantidad arbitraria de entradas con el mismo valor:"
   ]
  },
  {
   "cell_type": "code",
   "execution_count": null,
   "id": "eefd4ac3",
   "metadata": {},
   "outputs": [],
   "source": [
    "[1 for x in 1:10]"
   ]
  },
  {
   "cell_type": "markdown",
   "id": "32b41520",
   "metadata": {},
   "source": [
    "## Ciclos recursivos\n",
    "\n",
    "Los ciclos que ejecutan una serie de instrucciones _recursivamente_ se conocen como _ciclos recursivos_. Recordemos que, en Julia, podemos definir una secuencia de instrucciones como una **función**, cuya sintáxis general es la siguiente:\n",
    "\n",
    "$\\color{green}{\\textbf{function }} \\color{blue}{\\text{nombre}} \\text{(argumento1, ... , argumentoN=valor_predeterminado})$\n",
    "\n",
    "$\\quad \\quad \\text{bloque de instrucciones}$\n",
    "\n",
    "$\\color{green}{\\textbf{end}}$\n",
    "\n",
    "donde los argumentos y sus valores predeterminados son opcionales (es decir, podemos definir funciones sin argumentos). En particular, ¡el código en $\\text{bloque de instrucciones}$ puede contener una llamada a la misma función $\\color{blue}{\\text{nombre}}$! Esto nos puede servir para crear ciclos recursivos como, por ejemplo, la función factorial:"
   ]
  },
  {
   "cell_type": "code",
   "execution_count": null,
   "id": "ca444e6c",
   "metadata": {},
   "outputs": [],
   "source": [
    "function fact(x)\n",
    "    \n",
    "    if x == 0\n",
    "        \n",
    "        return 1\n",
    "        \n",
    "    else\n",
    "        \n",
    "        return x*fact(x-1)\n",
    "        \n",
    "    end\n",
    "    \n",
    "end\n",
    "\n",
    "fact(5)"
   ]
  },
  {
   "cell_type": "code",
   "execution_count": null,
   "id": "546ddbbe",
   "metadata": {},
   "outputs": [],
   "source": [
    "Int32(0.5)"
   ]
  },
  {
   "cell_type": "markdown",
   "id": "44fabdd5",
   "metadata": {},
   "source": [
    "Observemos que esta función falla para datos de tipo flotante con decimales no nulos pues, en este caso, nunca se verifica la condición `x == 0`, por lo que la recursividad de la función es infinita. Para especificar que la función sólo se ejecute cuando su argumento es de tipo `Int`, podemos incluir `x::Int` en su argumento en vez de sólo `x`. Más aún, esta función puede ejecutarse para datos de tipo `Int16`, `Int32`, `Int64`, `UInt16`, etcétera, los cuales están englobados en un tipo de datos llamado `Integer`.\n",
    "\n",
    "**Ejercicio** Crea una función llamada `miFactorial` que tome un argumento de tipo `Integer`, imprima el `String` `\"Error: la función miFactorial no se puede ejecutar con valores negativos.\"` si el argumento es menor a cero, y devuelva el factorial del argumento si es mayor o igual que cero."
   ]
  },
  {
   "cell_type": "code",
   "execution_count": null,
   "id": "d30e1733",
   "metadata": {},
   "outputs": [],
   "source": [
    "# Tu código comentado va aquí :D"
   ]
  },
  {
   "cell_type": "markdown",
   "id": "4911daff",
   "metadata": {},
   "source": [
    "**Nota** La función factorial ya está definida en Julia con el nombre `factorial`, por lo que no tenemos que definir una nueva función cada vez que queramos usarla."
   ]
  },
  {
   "cell_type": "code",
   "execution_count": null,
   "id": "ab6d520f",
   "metadata": {},
   "outputs": [],
   "source": [
    "factorial(5)"
   ]
  },
  {
   "cell_type": "markdown",
   "id": "aff598bb",
   "metadata": {},
   "source": [
    "## Visualización de ciclos con... ¡tortugas!\n",
    "\n",
    "Imaginemos que tenemos una tortuga en el origen de un plano cartesiano que tiene una pluma pegada, la cual puede poner sobre el papel o bien levantar, y que esta tortuga entiende sólo cuatro instrucciones:\n",
    "* camina hacia adelante un número $d$ de unidades de distancia,\n",
    "* gira $\\theta$ grados,\n",
    "* levanta la pluma y\n",
    "* baja la pluma.\n",
    "\n",
    "Si le pedimos que camine hacia adelante mientras tiene la pluma abajo (i.e. sobre el papel), dibujará una línea recta, mientras que, si le pedimos que camine cuando tiene la pluma arriba (i.e. levantada), no dibujará nada. La tortuga tampoco dibujará nada si le pedimos que gire, pues asumiremos que, aún con la pluma abajo, la marca es tan pequeña que no se alcanza a ver. \n",
    "\n",
    "Observa que, con las cuatro instrucciones anteriores (y la cooperación de la tortuga, por supuesto) pordemos dibujar **cualquier figura bidimensional compuesta únicamente por líneas rectas**. En serio, **piénsalo**."
   ]
  },
  {
   "cell_type": "markdown",
   "id": "1688c677",
   "metadata": {},
   "source": [
    "### Dibujando líneas con tortugas en Julia\n",
    "\n",
    "Afortunadamente, existe un programa que hace exactamente lo que acabamos de describir. Está incluido dentro de la biblioteca [`ThinkJulia`](https://github.com/BenLauwens/ThinkJulia.jl), creado como recurso didáctico del libro \"Think Julia: How to Think Like a Computer Scientist\" de Ben Lauwens (puedes encontrar la versión en línea del libro [aquí](https://benlauwens.github.io/ThinkJulia.jl/latest/book.html#_turtles)). Instalemos e importemos esta biblioteca:"
   ]
  },
  {
   "cell_type": "code",
   "execution_count": null,
   "id": "14319d11",
   "metadata": {},
   "outputs": [],
   "source": [
    "using Pkg                                                  # Importamos la biblioteca \"Pkg\" para poder instalar \"paquetes\" (blbiotecas);\n",
    "Pkg.add(url=\"https://github.com/BenLauwens/ThinkJulia.jl\") # luego, instalamos la biblioteca \"ThinkJulia\"."
   ]
  },
  {
   "cell_type": "code",
   "execution_count": null,
   "id": "df201858",
   "metadata": {},
   "outputs": [],
   "source": [
    "using ThinkJulia                                           # Importamos la biblioteca \"ThinkJulia\".\n",
    "\n",
    "#= NOTA: Después de instalar la biblioteca \"ThinkJulia\" localmente en tu computadora, podrás importarla sin tener que\n",
    "volverla a instalar; por ende, recomendamos comentar la celda de código anterior después de la instalación inicial,\n",
    "pues ya no será necesaria =#"
   ]
  },
  {
   "cell_type": "markdown",
   "id": "50a51f41",
   "metadata": {},
   "source": [
    "En la siguiente celda, usamos la función `Turtle` para inicializar nuestra tortuga en el origen del plano cartesiano y luego mostramos un ejemplo con las cuatro instrucciones que podemos darle. Como existe un caracter [`Unicode`](https://es.wikipedia.org/wiki/Unicode) de tortuga que podemos usar para nombrar variables con Julia, lo usaremos para definir a nuestra tortuga, por pura diversión; este caracter se obtiene escribiendo `\\:turtle:` en una celda de código de Julia y auto completando con la tecla `TAB`.\n",
    "\n",
    "Ejecuta la siguiente celda, experimenta cambiando el valor de distancia `d` y comentando alguna o varias líneas del bloque `begin`, y observa cómo cambia el dibujo que haces con la tortuga. ¿Hacia dónde mira la tortuga al inicio? ¿La convención de grados que sigue la tortuga es igual a la convención matemática usual en el plano cartesiano?"
   ]
  },
  {
   "cell_type": "code",
   "execution_count": null,
   "id": "ec328876",
   "metadata": {},
   "outputs": [],
   "source": [
    "🐢 = Turtle() #Inicializamos nuestra tortuga en el origen del plano.\n",
    "\n",
    "d = 100\n",
    "\n",
    "@svg begin           # '@svg' toma las instrucciones dentro del bloque `begin` y genera un svg con ellas, que Jupyter nos muestra\n",
    "    forward(🐢,d)\n",
    "    penup(🐢)\n",
    "    forward(🐢,d)\n",
    "    pendown(🐢)\n",
    "    forward(🐢,d)\n",
    "    turn(🐢, 90)\n",
    "    forward(🐢,d)\n",
    "end"
   ]
  },
  {
   "cell_type": "markdown",
   "id": "16198369",
   "metadata": {},
   "source": [
    "**Ejercicio** Dibuja una línea punteada con 5 líneas negras de 10 unidades de distancia cada una con 10 unidades de distancia entre ellas. (Sugerencia: copia el código de la celda anterior y modifícalo a tu conveniencia.)"
   ]
  },
  {
   "cell_type": "code",
   "execution_count": null,
   "id": "ac77acc6",
   "metadata": {},
   "outputs": [],
   "source": [
    "# Tu código comentado va aquí :D"
   ]
  },
  {
   "cell_type": "markdown",
   "id": "0740193f",
   "metadata": {},
   "source": [
    "**Ejercicio** Si no utilizaste un ciclo para resolver el ejercicio anterior, reescribe tu programa utilizando un ciclo `for` o `while`."
   ]
  },
  {
   "cell_type": "code",
   "execution_count": null,
   "id": "364b1176",
   "metadata": {},
   "outputs": [],
   "source": [
    "# Tu código comentado va aquí :D"
   ]
  },
  {
   "cell_type": "markdown",
   "id": "e5762d8e",
   "metadata": {},
   "source": [
    "**Ejercicio** Haz un programa que tome tres parámetros `n`, `d1` y `d2` (los cuales puedes definir como variables en la misma celda) y dibuje `n` líneas de longitud `d1` con una distancia de separación `d2` entre ellas utilizando un ciclo `for` o `while`."
   ]
  },
  {
   "cell_type": "code",
   "execution_count": null,
   "id": "596497c3",
   "metadata": {},
   "outputs": [],
   "source": [
    "# Tu código comentado va aquí :D"
   ]
  },
  {
   "cell_type": "markdown",
   "id": "b2462d2d",
   "metadata": {},
   "source": [
    "**Ejercicio** Haz un programa que dibuje un triángulo equilátero de lado `d`."
   ]
  },
  {
   "cell_type": "code",
   "execution_count": null,
   "id": "297ea71a",
   "metadata": {},
   "outputs": [],
   "source": [
    "# Tu código comentado va aquí :D"
   ]
  },
  {
   "cell_type": "markdown",
   "id": "f852f46e",
   "metadata": {},
   "source": [
    "**Ejercicio** Generaliza el programa anterior a uno que tome dos parámetros `n` y `d` y dibuje un polígono regular de `n` lados de longitud `d` utilizando un ciclo `for` o `while`."
   ]
  },
  {
   "cell_type": "code",
   "execution_count": null,
   "id": "ca6fe61a",
   "metadata": {},
   "outputs": [],
   "source": [
    "# Tu código comentado va aquí :D"
   ]
  },
  {
   "cell_type": "markdown",
   "id": "40948d24",
   "metadata": {},
   "source": [
    "### Tortugas y fractales\n",
    "\n",
    "Podemos utilizar ciclos recursivos para dibujar fractales (o al menos una linda aproximación de ellos) con ayuda de nuestra amiga tortuga."
   ]
  },
  {
   "cell_type": "code",
   "execution_count": null,
   "id": "a179d6af",
   "metadata": {},
   "outputs": [],
   "source": [
    "function estrella(tort,dist)\n",
    "    if dist <= 5\n",
    "        return\n",
    "    else\n",
    "        for i in 1:5\n",
    "            forward(tort,dist)\n",
    "            estrella(tort,dist/3)\n",
    "            turn(tort,216)\n",
    "        end\n",
    "    end\n",
    "end\n",
    "\n",
    "🐢 = Turtle() #Inicializamos nuestra tortuga en el origen del plano.\n",
    "\n",
    "d = 200\n",
    "\n",
    "@svg estrella(🐢,d) "
   ]
  },
  {
   "cell_type": "markdown",
   "id": "e038907a",
   "metadata": {},
   "source": [
    "**Ejercicio** Crea un fractal con un ciclo recursivo."
   ]
  },
  {
   "cell_type": "code",
   "execution_count": null,
   "id": "2d7d071a",
   "metadata": {},
   "outputs": [],
   "source": [
    "# Tu código comentado va aquí :D"
   ]
  },
  {
   "cell_type": "markdown",
   "id": "35962a00",
   "metadata": {},
   "source": [
    "**¡Concurso!** Cuando esta tarea se haya entregado, haremos un concurso grupal en el cual los fractales más creativos serán recompensados con décimas extra en el rubro de tareas, ¡así que echa a volar tu imaginación!"
   ]
  },
  {
   "cell_type": "markdown",
   "id": "8e808b43",
   "metadata": {},
   "source": [
    "### Dato curioso\n",
    "\n",
    "El _software_ de la biblioteca `ThinkJulia` que acabamos de utilizar está basado en la biblioteca [`turtle`](https://docs.python.org/3/library/turtle.html) de Python la cual, a su vez, está basada en el lenguaje de programación educativo [`Logo`](https://en.wikipedia.org/wiki/Logo_(programming_language)) creado en 1967."
   ]
  },
  {
   "cell_type": "markdown",
   "id": "c6276668",
   "metadata": {},
   "source": [
    "## Recursos complementarios\n",
    "* [Manual de ciclos en Julia](https://docs.julialang.org/en/v1/manual/control-flow/#man-loops)."
   ]
  }
 ],
 "metadata": {
  "kernelspec": {
   "display_name": "Julia 1.8.4",
   "language": "julia",
   "name": "julia-1.8"
  },
  "language_info": {
   "file_extension": ".jl",
   "mimetype": "application/julia",
   "name": "julia",
   "version": "1.8.4"
  }
 },
 "nbformat": 4,
 "nbformat_minor": 5
}
