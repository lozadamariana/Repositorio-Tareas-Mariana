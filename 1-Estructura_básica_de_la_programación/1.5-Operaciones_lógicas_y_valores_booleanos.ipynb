{
 "cells": [
  {
   "cell_type": "markdown",
   "id": "8307968b",
   "metadata": {},
   "source": [
    "# Estructura lógica"
   ]
  },
  {
   "cell_type": "markdown",
   "id": "6b5649f8",
   "metadata": {},
   "source": [
    "# Operaciones lógicas\n",
    "\n",
    "La mayoría de los lenguajes de programación tienen una implementación de [lógica proposicional](https://es.wikipedia.org/wiki/L%C3%B3gica_proposicional); esto es, una lógica bivalente (donde los únicos valores posibles son _verdadero_ y _falso_) con operaciones como negación, conjunción, disyunción, etc, las cuales se aplican a _afirmaciones_, que podemos definir como enunciados para los cuales se puede determinar sin ambigüedad si son verdaderos o falsos.\n",
    "\n",
    "## Valores Booleanos\n",
    "\n",
    "Los valores de verdad de la lógica proposicional también son conocidos **valores Booleanos**. En Julia, estos valores están implementados mediante las _keywords_ `true` y `false`:"
   ]
  },
  {
   "cell_type": "code",
   "execution_count": 1,
   "id": "805ddeab",
   "metadata": {},
   "outputs": [
    {
     "data": {
      "text/plain": [
       "true"
      ]
     },
     "execution_count": 1,
     "metadata": {},
     "output_type": "execute_result"
    }
   ],
   "source": [
    "true"
   ]
  },
  {
   "cell_type": "code",
   "execution_count": 2,
   "id": "963e18b0",
   "metadata": {},
   "outputs": [
    {
     "data": {
      "text/plain": [
       "false"
      ]
     },
     "execution_count": 2,
     "metadata": {},
     "output_type": "execute_result"
    }
   ],
   "source": [
    "false"
   ]
  },
  {
   "cell_type": "markdown",
   "id": "b6cd0dfd",
   "metadata": {},
   "source": [
    "Una de las ventajas de contar con estos dos valores (\"de verdad\") es que pueden ser utilizados como salidas (_output_) para algunos operadores importantes, como veremos en la siguiente sección.\n",
    "\n",
    "**Ejercicio** ¿Qué tipo de datos son los valores `true` y `false` en Julia?"
   ]
  },
  {
   "cell_type": "code",
   "execution_count": 8,
   "id": "9b46e810",
   "metadata": {},
   "outputs": [
    {
     "data": {
      "text/plain": [
       "Bool"
      ]
     },
     "execution_count": 8,
     "metadata": {},
     "output_type": "execute_result"
    }
   ],
   "source": [
    "typeof(true)"
   ]
  },
  {
   "cell_type": "code",
   "execution_count": 6,
   "id": "2705c85b",
   "metadata": {},
   "outputs": [
    {
     "data": {
      "text/plain": [
       "Bool"
      ]
     },
     "execution_count": 6,
     "metadata": {},
     "output_type": "execute_result"
    }
   ],
   "source": [
    "typeof(false)"
   ]
  },
  {
   "cell_type": "markdown",
   "id": "8a7f9ff3",
   "metadata": {},
   "source": [
    "### Operadores lógicos\n",
    "\n",
    "La lógica proposicional es extremadamente útil para construir circuitos lógicos, y estos son la base para la electrónica, que, a su vez, es la base de la informática. Por ende, tiene sentido que sea común hacer una implementación de lógica proposicional en lenguajes de programación.\n",
    "\n",
    "En Julia, los símbolos **`!`**, **`&&`** y **`||`** se utilizan para denotar las operaciones de negación, conjunción y disyunción, respectivamente:"
   ]
  },
  {
   "cell_type": "code",
   "execution_count": 2,
   "id": "be4f95ec",
   "metadata": {},
   "outputs": [
    {
     "data": {
      "text/plain": [
       "true"
      ]
     },
     "execution_count": 2,
     "metadata": {},
     "output_type": "execute_result"
    }
   ],
   "source": [
    "! false"
   ]
  },
  {
   "cell_type": "code",
   "execution_count": 3,
   "id": "280453ce",
   "metadata": {},
   "outputs": [
    {
     "data": {
      "text/plain": [
       "true"
      ]
     },
     "execution_count": 3,
     "metadata": {},
     "output_type": "execute_result"
    }
   ],
   "source": [
    "true && true"
   ]
  },
  {
   "cell_type": "code",
   "execution_count": 4,
   "id": "881bd7a2",
   "metadata": {
    "scrolled": true
   },
   "outputs": [
    {
     "data": {
      "text/plain": [
       "true"
      ]
     },
     "execution_count": 4,
     "metadata": {},
     "output_type": "execute_result"
    }
   ],
   "source": [
    "true || false"
   ]
  },
  {
   "cell_type": "markdown",
   "id": "c2fef3c5",
   "metadata": {},
   "source": [
    "**Ejercicio** Completa las siguientes tablas de verdad.\n",
    "\n",
    "<table>\n",
    "<tr><td>\n",
    "\n",
    "|$P$|$\\lnot P$|\n",
    "|--|--|\n",
    "|`true`|false|\n",
    "|`false`|true|\n",
    "\n",
    "</td><td>\n",
    "\n",
    "|$P$|$ Q$|$ P\\land Q$| \n",
    "|--|--|--|\n",
    "|`true`|`true`|true|\n",
    "|`true`|`false`|false|\n",
    "|`false`|`true`|false|\n",
    "|`false`|`false`|false|\n",
    "\n",
    "</td><td>\n",
    "\n",
    "|$P$|$Q$|$P\\lor Q$| \n",
    "|--|--|--|\n",
    "|`true`|`true`|true|\n",
    "|`true`|`false`|true|\n",
    "|`false`|`true`|true|\n",
    "|`false`|`false`|false|\n",
    "\n",
    "</td></tr> </table>"
   ]
  },
  {
   "cell_type": "markdown",
   "id": "f8969279",
   "metadata": {},
   "source": [
    "**Ejercicio** Obten el valor `false` como salida en cada una de las celdas de código anteriores que contienen operaciones lógicas **modificando sólo un valor** en cada celda (¡Recuerda tus tablas de valores de verdad!)."
   ]
  },
  {
   "cell_type": "code",
   "execution_count": 2,
   "id": "913e648c",
   "metadata": {},
   "outputs": [
    {
     "data": {
      "text/plain": [
       "false"
      ]
     },
     "execution_count": 2,
     "metadata": {},
     "output_type": "execute_result"
    }
   ],
   "source": [
    "! true"
   ]
  },
  {
   "cell_type": "code",
   "execution_count": 4,
   "id": "bbe9234f",
   "metadata": {},
   "outputs": [
    {
     "data": {
      "text/plain": [
       "false"
      ]
     },
     "execution_count": 4,
     "metadata": {},
     "output_type": "execute_result"
    }
   ],
   "source": [
    "!true && true"
   ]
  },
  {
   "cell_type": "code",
   "execution_count": 1,
   "id": "ca1ade6a",
   "metadata": {},
   "outputs": [
    {
     "data": {
      "text/plain": [
       "false"
      ]
     },
     "execution_count": 1,
     "metadata": {},
     "output_type": "execute_result"
    }
   ],
   "source": [
    "false || false"
   ]
  },
  {
   "cell_type": "markdown",
   "id": "d129fa9b",
   "metadata": {},
   "source": [
    "Podemos utilizar paréntesis `()` para englobar algunas afirmaciones, y así formar afirmaciones más complejas, ¡igual a como lo hacemos con expresiones matemáticas!"
   ]
  },
  {
   "cell_type": "code",
   "execution_count": 5,
   "id": "fa5ad5a4",
   "metadata": {},
   "outputs": [
    {
     "data": {
      "text/plain": [
       "false"
      ]
     },
     "execution_count": 5,
     "metadata": {},
     "output_type": "execute_result"
    }
   ],
   "source": [
    "(! true) && (true || false)"
   ]
  },
  {
   "cell_type": "markdown",
   "id": "6b8f8c2f",
   "metadata": {},
   "source": [
    "El operador de conjunción **`&&`** tiene una _precedencia mayor_ que el de disyunción **`||`**; es decir, si escribimos una expresión _sin paréntesis_ que contenga a ambos operadores, al evaluar la expresión se resolverán _primero_ las operaciones de conjunción y _después_ las de disyunción, como se observa ejecutando las siguientes tres celdas:"
   ]
  },
  {
   "cell_type": "code",
   "execution_count": 6,
   "id": "4013e4d9",
   "metadata": {},
   "outputs": [
    {
     "data": {
      "text/plain": [
       "false"
      ]
     },
     "execution_count": 6,
     "metadata": {},
     "output_type": "execute_result"
    }
   ],
   "source": [
    "false && (false || true)"
   ]
  },
  {
   "cell_type": "code",
   "execution_count": 7,
   "id": "9d5b5a5f",
   "metadata": {},
   "outputs": [
    {
     "data": {
      "text/plain": [
       "true"
      ]
     },
     "execution_count": 7,
     "metadata": {},
     "output_type": "execute_result"
    }
   ],
   "source": [
    "(false && false) || true"
   ]
  },
  {
   "cell_type": "code",
   "execution_count": 8,
   "id": "24b9f664",
   "metadata": {},
   "outputs": [
    {
     "data": {
      "text/plain": [
       "true"
      ]
     },
     "execution_count": 8,
     "metadata": {},
     "output_type": "execute_result"
    }
   ],
   "source": [
    "false && false || true"
   ]
  },
  {
   "cell_type": "markdown",
   "id": "0198ed01",
   "metadata": {},
   "source": [
    "Como de costumbre, **es altamente recomendable usar paréntesis al escribir expresiones con varios operadores**, pues así **no tenemos que recordar la precedencia** de todos los operadores y, además, **las expresiones son más claras** y fáciles de leer (el uso correcto del espaciado también ayuda en este último punto)."
   ]
  },
  {
   "cell_type": "markdown",
   "id": "7be177b1",
   "metadata": {},
   "source": [
    "### Operadores de comparación\n",
    "\n",
    "Los símbolos **`>`**, **`<`**, **`>=`** y **`<=`** se utilizan para evaluar **ordenación**, y corresponden a las desigualdades matemáticas \"mayor que\", \"menor que\", \"mayor o igual que\" y \"menor o igual que\", respectivamente."
   ]
  },
  {
   "cell_type": "code",
   "execution_count": 9,
   "id": "3f657d29",
   "metadata": {},
   "outputs": [
    {
     "data": {
      "text/plain": [
       "true"
      ]
     },
     "execution_count": 9,
     "metadata": {},
     "output_type": "execute_result"
    }
   ],
   "source": [
    "5 > 2"
   ]
  },
  {
   "cell_type": "code",
   "execution_count": 13,
   "id": "320cc2b8",
   "metadata": {},
   "outputs": [
    {
     "data": {
      "text/plain": [
       "false"
      ]
     },
     "execution_count": 13,
     "metadata": {},
     "output_type": "execute_result"
    }
   ],
   "source": [
    "7 < 1"
   ]
  },
  {
   "cell_type": "code",
   "execution_count": 14,
   "id": "2b0b2cc6",
   "metadata": {},
   "outputs": [
    {
     "data": {
      "text/plain": [
       "true"
      ]
     },
     "execution_count": 14,
     "metadata": {},
     "output_type": "execute_result"
    }
   ],
   "source": [
    "4 >= 3"
   ]
  },
  {
   "cell_type": "code",
   "execution_count": 15,
   "id": "fdde522b",
   "metadata": {
    "scrolled": true
   },
   "outputs": [
    {
     "data": {
      "text/plain": [
       "true"
      ]
     },
     "execution_count": 15,
     "metadata": {},
     "output_type": "execute_result"
    }
   ],
   "source": [
    "6 <= 6"
   ]
  },
  {
   "cell_type": "markdown",
   "id": "46a1c866",
   "metadata": {},
   "source": [
    "Los otros operadores de comparación son **`==`** y **`!=`**, que evalúan igualdad o diferencia, respectivamente."
   ]
  },
  {
   "cell_type": "code",
   "execution_count": 24,
   "id": "11f1ecfe",
   "metadata": {},
   "outputs": [
    {
     "data": {
      "text/plain": [
       "false"
      ]
     },
     "execution_count": 24,
     "metadata": {},
     "output_type": "execute_result"
    }
   ],
   "source": [
    "7 == 3"
   ]
  },
  {
   "cell_type": "code",
   "execution_count": 25,
   "id": "2c7705ac",
   "metadata": {},
   "outputs": [
    {
     "data": {
      "text/plain": [
       "true"
      ]
     },
     "execution_count": 25,
     "metadata": {},
     "output_type": "execute_result"
    }
   ],
   "source": [
    "5 != 4"
   ]
  },
  {
   "cell_type": "markdown",
   "id": "f44d3c9a",
   "metadata": {},
   "source": [
    "_A grosso modo_, podemos imaginar que los símbolos **`==`** y **`!=`** representan las frases \"es igual a\" y \"no es igual a/es distinto de\", respectivamente; por ejemplo, podemos leer la expresión `5 != 4` como \"cinco no es igual a cuatro\" o \"cinco es distinto de cuatro\" -lo cual, por supuesto, es verdadero."
   ]
  },
  {
   "cell_type": "markdown",
   "id": "36cce3a0",
   "metadata": {},
   "source": [
    "**Nota** Tal vez estés pensando: ¿por qué los operadores lógicos de conjunción, disyunción e igualdad utilizan símbolos **dobles** (**`&&`**, **`||`** y **`==`**, respectivamente)? La razón es que, en Julia, los símbolos **`&`**, **`|`** y **`=`** están reservados para otros operadores; de hecho, en el _notebook_ [`1.4-Variables_constantes_y_funciones.ipynb`](./1.4-Variables_constantes_y_funciones.ipynb)ya hemos visto que el símbolo **`=`** corresponde al operador de _asignación_, que sirve para definir variables, constantes y funciones. ¡Es muy importante recordar este detalle al hacer operaciones lógicas!"
   ]
  },
  {
   "cell_type": "markdown",
   "id": "5b17e708",
   "metadata": {},
   "source": [
    "Los operadores de comparación (**`>`**, **`<`**, **`>=`**, **`<=`**, **`==`** y **`!=`**) tienen menor precedencia que los operadores aritméticos (vistos en el _notebook_ [`1.1-Operadores_aritméticos_y_tipos_de_datos_numéricos.ipynb`](./1.1-Operadores_aritméticos_y_tipos_de_datos_numéricos.ipynb)), por lo que también nos sirven para comparar expresiones _que se evalúen a números_, como en los ejemplos siguientes:"
   ]
  },
  {
   "cell_type": "code",
   "execution_count": 35,
   "id": "63d5fe78",
   "metadata": {},
   "outputs": [
    {
     "data": {
      "text/plain": [
       "true"
      ]
     },
     "execution_count": 35,
     "metadata": {},
     "output_type": "execute_result"
    }
   ],
   "source": [
    "8+1 > 8-1"
   ]
  },
  {
   "cell_type": "code",
   "execution_count": 36,
   "id": "83e837bc",
   "metadata": {},
   "outputs": [
    {
     "data": {
      "text/plain": [
       "false"
      ]
     },
     "execution_count": 36,
     "metadata": {},
     "output_type": "execute_result"
    }
   ],
   "source": [
    "3^2 <= 3*2"
   ]
  },
  {
   "cell_type": "code",
   "execution_count": 38,
   "id": "6b3d4f63",
   "metadata": {},
   "outputs": [
    {
     "data": {
      "text/plain": [
       "true"
      ]
     },
     "execution_count": 38,
     "metadata": {},
     "output_type": "execute_result"
    }
   ],
   "source": [
    "4/6 != 6/4"
   ]
  },
  {
   "cell_type": "markdown",
   "id": "3a17c021",
   "metadata": {},
   "source": [
    "Adicionalmente, los operadores de comparación también funcionan con valores Booleanos:"
   ]
  },
  {
   "cell_type": "code",
   "execution_count": 28,
   "id": "5b5f7264",
   "metadata": {},
   "outputs": [
    {
     "data": {
      "text/plain": [
       "false"
      ]
     },
     "execution_count": 28,
     "metadata": {},
     "output_type": "execute_result"
    }
   ],
   "source": [
    "true != true"
   ]
  },
  {
   "cell_type": "code",
   "execution_count": 27,
   "id": "e0987979",
   "metadata": {},
   "outputs": [
    {
     "data": {
      "text/plain": [
       "true"
      ]
     },
     "execution_count": 27,
     "metadata": {},
     "output_type": "execute_result"
    }
   ],
   "source": [
    "false == false"
   ]
  },
  {
   "cell_type": "markdown",
   "id": "bb57bc8a",
   "metadata": {},
   "source": [
    "en el caso particular de los operadores de **ordenación**, el valor `true` se considera como `1` y el valor `false`, como `0`:"
   ]
  },
  {
   "cell_type": "code",
   "execution_count": 39,
   "id": "169228c9",
   "metadata": {},
   "outputs": [
    {
     "data": {
      "text/plain": [
       "true"
      ]
     },
     "execution_count": 39,
     "metadata": {},
     "output_type": "execute_result"
    }
   ],
   "source": [
    "true > false"
   ]
  },
  {
   "cell_type": "markdown",
   "id": "67ebf46f",
   "metadata": {},
   "source": [
    "Aquí va una observación importante sobre la sintáxis de Julia: no es necesario dejar espacio entre los valores (Booleanos o numéricos) y los operadores -por ejemplo, `6<=6` evalúa a lo mismo que `6 <= 6`-; sin embargo, poner un espacio _en medio_ de operadores con más de un símbolo nos generará un error, pues esto hará que Julia interprete ambos símbolos por separado, causando (la mayoría del tiempo) que lo que hayamos escrito no tenga sentido (¡verifica ambas observaciones _experimentalmente_!)."
   ]
  },
  {
   "cell_type": "markdown",
   "id": "7e6e186a",
   "metadata": {},
   "source": [
    "## Recursos complementarios\n",
    "* Página de Wikipedia sobre [lógica proposicional](https://es.wikipedia.org/wiki/L%C3%B3gica_proposicional).\n",
    "* Manual de Julia sobre [operadores Booleanos](https://docs.julialang.org/en/v1/manual/mathematical-operations/#Boolean-Operators)."
   ]
  }
 ],
 "metadata": {
  "kernelspec": {
   "display_name": "Julia 1.8.5",
   "language": "julia",
   "name": "julia-1.8"
  },
  "language_info": {
   "file_extension": ".jl",
   "mimetype": "application/julia",
   "name": "julia",
   "version": "1.8.5"
  }
 },
 "nbformat": 4,
 "nbformat_minor": 5
}
