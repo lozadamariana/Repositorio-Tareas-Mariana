{
 "cells": [
  {
   "cell_type": "markdown",
   "id": "8307968b",
   "metadata": {},
   "source": [
    "# Estructura lógica"
   ]
  },
  {
   "cell_type": "markdown",
   "id": "6b5649f8",
   "metadata": {},
   "source": [
    "# Operaciones lógicas\n",
    "\n",
    "La mayoría de los lenguajes de programación tienen una implementación de lógica proposicional; esto es, una lógica bivalente (donde los únicos valores posibles son _verdadero_ y _falso_) con operaciones como negación, conjunción, disyunción, etc, las cuales se aplican a _afirmaciones_, que podemos definir como enunciados para los cuales se puede determinar sin ambigüedad si son verdaderos o falsos.\n",
    "\n",
    "## Valores Booleanos\n",
    "\n",
    "En Julia, los valores _verdadero_ y _falso_ de la lógica proposicional están implementados como `true` y `false`:"
   ]
  },
  {
   "cell_type": "code",
   "execution_count": null,
   "id": "805ddeab",
   "metadata": {},
   "outputs": [],
   "source": [
    "true"
   ]
  },
  {
   "cell_type": "code",
   "execution_count": null,
   "id": "963e18b0",
   "metadata": {},
   "outputs": [],
   "source": [
    "false"
   ]
  },
  {
   "cell_type": "markdown",
   "id": "b6cd0dfd",
   "metadata": {},
   "source": [
    "Una de las ventajas de contar con estos dos valores (\"de verdad\") es que pueden ser utilizados como salidas (_output_) para algunos operadores importantes, como veremos en la siguiente sección.\n",
    "\n",
    "**Ejercicio** ¿Qué tipo de datos son los valores `true` y `false` en Julia?"
   ]
  },
  {
   "cell_type": "markdown",
   "id": "8a7f9ff3",
   "metadata": {},
   "source": [
    "### Operadores lógicos\n",
    "\n",
    "La lógica proposicional es extremadamente útil para construir circuitos lógicos, y estos son la base para la electrónica, que es el origen de la informática. Por ende, tiene sentido que sea común hacer una implementación de lógica proposicional en lenguajes de programación.\n",
    "\n",
    "En Julia, los símbolos `!`, `&&`, `||` se utilizan para denotar las operaciones de negación, conjunción y disyunción, respectivamente:"
   ]
  },
  {
   "cell_type": "code",
   "execution_count": null,
   "id": "be4f95ec",
   "metadata": {},
   "outputs": [],
   "source": [
    "! false"
   ]
  },
  {
   "cell_type": "code",
   "execution_count": null,
   "id": "280453ce",
   "metadata": {},
   "outputs": [],
   "source": [
    "true && true"
   ]
  },
  {
   "cell_type": "code",
   "execution_count": null,
   "id": "881bd7a2",
   "metadata": {
    "scrolled": true
   },
   "outputs": [],
   "source": [
    "true || false"
   ]
  },
  {
   "cell_type": "markdown",
   "id": "d129fa9b",
   "metadata": {},
   "source": [
    "Podemos utilizar paréntesis `()` para englobar algunas afirmaciones, y así formar afirmaciones más complejas, ¡igual a como lo hacemos con expresiones matemáticas!"
   ]
  },
  {
   "cell_type": "markdown",
   "id": "f8969279",
   "metadata": {},
   "source": [
    "**Ejercicio** Obten el valor `false` como salida en cada una de las celdas de código anteriores que contienen operaciones lógicas **modificando sólo un valor** en cada celda (¡Recuerda tus tablas de valores de verdad!)."
   ]
  },
  {
   "cell_type": "markdown",
   "id": "f44d3c9a",
   "metadata": {},
   "source": [
    "Tal vez te estés preguntando, ¿por qué los operadores lógicos de conjunción, disyunción y evaluación de igualdad utilizan símbolos dobles (`&&`, `||` y `==`, respectivamente)? La razón es que, en Julia, los símbolos `&`, `|` y `=` tienen una función muy diferente a las operaciones mencionadas; de hecho, como vimos en el _notebook_ pasado, el símbolo `=` se utiliza para denotar la operación de _asignación_, lo cual sirve para definir, por ejemplo, variables y funciones. ¡Es muy importante recordar este detalle cuando estemos haciendo operaciones lógicas!"
   ]
  },
  {
   "cell_type": "markdown",
   "id": "6b8f8c2f",
   "metadata": {},
   "source": [
    "Otra observación importante: El operador de conjunción `&&` tiene una _precedencia mayor_ que el de disyunción `||`; es decir, si escribimos una expresión _sin paréntesis_ que contenga a ambos operadores, al evaluar la expresión se harán _primero_ las operaciones de conjunción y _después_ las de disyunción, como se observa corriendo las siguientes tres celdas:"
   ]
  },
  {
   "cell_type": "code",
   "execution_count": null,
   "id": "24b9f664",
   "metadata": {},
   "outputs": [],
   "source": [
    "false && false || true"
   ]
  },
  {
   "cell_type": "code",
   "execution_count": null,
   "id": "9d5b5a5f",
   "metadata": {},
   "outputs": [],
   "source": [
    "(false && false) || true"
   ]
  },
  {
   "cell_type": "code",
   "execution_count": null,
   "id": "4013e4d9",
   "metadata": {},
   "outputs": [],
   "source": [
    "false && (false || true)"
   ]
  },
  {
   "cell_type": "markdown",
   "id": "0198ed01",
   "metadata": {},
   "source": [
    "Como de costumbre, **es altamente recomendable usar paréntesis al escribir expresiones con varios operadores**, pues así **no tenemos que recordar la precedencia de todos los operadores** y, además, **las expresiones son más claras y fáciles de leer** (el uso correcto del espaciado también ayuda en este último punto)."
   ]
  },
  {
   "cell_type": "markdown",
   "id": "7be177b1",
   "metadata": {},
   "source": [
    "### Operadores de comparación\n",
    "\n",
    "Los símbolos `>`, `<`, `>=` y `<=` se utilizan para evaluar las desigualdades matemáticas \"mayor que\", \"menor que\", \"mayor o igual que\" y \"menor o igual que\", respectivamente. Sus entradas (_inputs_) son dos números (uno a cada lado del operador) y sus salidas son valores Booleanos:"
   ]
  },
  {
   "cell_type": "code",
   "execution_count": null,
   "id": "3f657d29",
   "metadata": {},
   "outputs": [],
   "source": [
    "5 > 2"
   ]
  },
  {
   "cell_type": "code",
   "execution_count": null,
   "id": "320cc2b8",
   "metadata": {},
   "outputs": [],
   "source": [
    "1 < 7"
   ]
  },
  {
   "cell_type": "code",
   "execution_count": null,
   "id": "2b0b2cc6",
   "metadata": {},
   "outputs": [],
   "source": [
    "4 >= 3"
   ]
  },
  {
   "cell_type": "code",
   "execution_count": null,
   "id": "fdde522b",
   "metadata": {
    "scrolled": true
   },
   "outputs": [],
   "source": [
    "6 <= 6"
   ]
  },
  {
   "cell_type": "markdown",
   "id": "46a1c866",
   "metadata": {},
   "source": [
    "Los símbolos `==` y `!=` se utilizan para evaluar una igualdad o diferencia, respectivamente, como en los ejemplos siguientes:"
   ]
  },
  {
   "cell_type": "code",
   "execution_count": null,
   "id": "11f1ecfe",
   "metadata": {},
   "outputs": [],
   "source": [
    "0 == false"
   ]
  },
  {
   "cell_type": "code",
   "execution_count": null,
   "id": "2c7705ac",
   "metadata": {},
   "outputs": [],
   "source": [
    "5 != 4"
   ]
  },
  {
   "cell_type": "markdown",
   "id": "36cce3a0",
   "metadata": {},
   "source": [
    "_A grosso modo_, podemos imaginar que los símbolos `==` y `!=` representan las frases \"es igual a\" y \"no es igual a/es distinto de\", respectivamente; por ejemplo, podemos leer la expresión `5 != 4` como \"cinco no es igual a cuatro\" o \"cinco es distinto de cuatro\" -lo cual, por supuesto, es verdadero (la razón del símbolo `!` al inicio del segundo operador quedará clara en la siguiente sección).\n",
    "\n",
    "Observemos que los seis operadores de comparación que hemos visto sirven para comparar números. Por ende, también sirven para comparar expresiones que se evalúan en números, como en los ejemplos siguientes:"
   ]
  },
  {
   "cell_type": "code",
   "execution_count": null,
   "id": "63d5fe78",
   "metadata": {},
   "outputs": [],
   "source": [
    "8+1 > 8-1"
   ]
  },
  {
   "cell_type": "code",
   "execution_count": null,
   "id": "83e837bc",
   "metadata": {},
   "outputs": [],
   "source": [
    "3^2 <= 3*2"
   ]
  },
  {
   "cell_type": "code",
   "execution_count": null,
   "id": "622b1637",
   "metadata": {},
   "outputs": [],
   "source": [
    "8-1 == -(1-8)"
   ]
  },
  {
   "cell_type": "code",
   "execution_count": null,
   "id": "6b3d4f63",
   "metadata": {},
   "outputs": [],
   "source": [
    "4/6 != 6/4"
   ]
  },
  {
   "cell_type": "markdown",
   "id": "5b17e708",
   "metadata": {},
   "source": [
    "Es decir que, utilizando los operadores de comparación `!=` y `==`, podemos comparar dos expresiones sin tener que evaluar cada una de ellas individualmente en celdas distintas (Tal vez recuerdes haber visto ejemplos muy similares a los últimos dos ejemplos anteriores en la sección **Asociatividad y precedencia** del _notebook_ [`1.1-Operadores_aritméticos_y_tipos_de_datos_numéricos.ipynb`](./1.1-Operadores_aritméticos_y_tipos_de_datos_numéricos.ipynb); ¡compáralos!). En particular, estos operadores también se pueden utilizar para comparar valores Booleanos:"
   ]
  },
  {
   "cell_type": "code",
   "execution_count": null,
   "id": "e0987979",
   "metadata": {},
   "outputs": [],
   "source": [
    "true == true"
   ]
  },
  {
   "cell_type": "code",
   "execution_count": null,
   "id": "5b5f7264",
   "metadata": {},
   "outputs": [],
   "source": [
    "false != true"
   ]
  },
  {
   "cell_type": "markdown",
   "id": "67ebf46f",
   "metadata": {},
   "source": [
    "Aquí va una observación importante sobre la sintáxis de Julia: no es necesario dejar espacio entre los valores (Booleanos o numéricos) y los operadores -por ejemplo, `6<=6` evalúa a lo mismo que `6 <= 6`-; sin embargo, poner un espacio _en medio_ de operadores con más de un símbolo nos generará un error, pues esto hará que Julia interprete ambos símbolos por separado, causando (la mayoría del tiempo) que lo que hayamos escrito no tenga sentido (¡verifica ambas observaciones _experimentalmente_!)."
   ]
  },
  {
   "cell_type": "markdown",
   "id": "bbeb5105",
   "metadata": {},
   "source": [
    "Más aún, podemos formar afirmaciones más complejas uniendo operadores lógicos con expresiones que se evalúen a valores Booleanos. Un ejemplo se muestra en la siguiente celda (Piensa en cuál es el valor Booleano que devuelve cada expresión entre paréntesis en esta celda de cógido y compárala con la anterior):"
   ]
  },
  {
   "cell_type": "code",
   "execution_count": null,
   "id": "deae8e74",
   "metadata": {
    "scrolled": true
   },
   "outputs": [],
   "source": [
    "(false && true) || true"
   ]
  },
  {
   "cell_type": "code",
   "execution_count": null,
   "id": "60c128b3",
   "metadata": {},
   "outputs": [],
   "source": [
    "( false && true ) || true"
   ]
  }
 ],
 "metadata": {
  "kernelspec": {
   "display_name": "Julia 1.8.4",
   "language": "julia",
   "name": "julia-1.8"
  },
  "language_info": {
   "file_extension": ".jl",
   "mimetype": "application/julia",
   "name": "julia",
   "version": "1.8.4"
  }
 },
 "nbformat": 4,
 "nbformat_minor": 5
}
