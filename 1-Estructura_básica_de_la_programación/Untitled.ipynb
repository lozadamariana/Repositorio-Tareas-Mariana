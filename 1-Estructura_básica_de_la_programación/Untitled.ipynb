{
 "cells": [
  {
   "cell_type": "markdown",
   "id": "1de54263",
   "metadata": {},
   "source": [
    "# Proyecto intermedio\n",
    "## Ejercicio 3: Torres de Hanoi"
   ]
  },
  {
   "cell_type": "code",
   "execution_count": null,
   "id": "375a1fb5",
   "metadata": {},
   "outputs": [],
   "source": []
  }
 ],
 "metadata": {
  "kernelspec": {
   "display_name": "Julia 1.8.5",
   "language": "julia",
   "name": "julia-1.8"
  },
  "language_info": {
   "file_extension": ".jl",
   "mimetype": "application/julia",
   "name": "julia",
   "version": "1.8.5"
  }
 },
 "nbformat": 4,
 "nbformat_minor": 5
}
