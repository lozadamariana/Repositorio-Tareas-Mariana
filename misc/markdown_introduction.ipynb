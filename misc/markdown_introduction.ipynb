{
 "cells": [
  {
   "cell_type": "markdown",
   "id": "6b8be1ee-e097-4641-b272-30604765105b",
   "metadata": {},
   "source": [
    "# Introducción a Markdown"
   ]
  },
  {
   "cell_type": "markdown",
   "id": "2816c093-2a30-45fe-99f4-4b504294b0ea",
   "metadata": {},
   "source": [
    "# Encabezados\n",
    "\n",
    "Las líneas de encabezados empiezan con `#`, por ejemplo:\n",
    "# Título\n",
    "## Subtítulo\n",
    "### Subsubtítulo\n",
    "\n",
    "También se pueden separar secciones utilizando tres guiones seguidos `---`:\n",
    "\n",
    "---"
   ]
  },
  {
   "cell_type": "markdown",
   "id": "3a424f23-3286-4f05-84e8-e85945009367",
   "metadata": {},
   "source": [
    "# Formato de Texto\n",
    "- El texto en formato de código se enciera entre comilla invertida, por ejemplo `texto de código`\n",
    "- Los bloques de código se encierra entre triple comilla invertida, por ejemplo:\n",
    "```\n",
    "def function(a, b)\n",
    "    return a + b\n",
    "end\n",
    "```\n",
    "- La cursiva se encierra entre `*` o `_`, por ejemplo: *letra en cursiva*\n",
    "- Las negritas se encierra entre `**` o `__`, por ejemplo: __letra en negritas__\n",
    "- El texto tachado se encierra entre `~`, por ejemplo: ~texto tachado~\n",
    "- El texto subrayado se encierra entre `<u> </u>`, por ejemplo: <u>texto subrayado</u>\n",
    "- El texto hiperreferenciado se genera usando la siguiente sintáxis `[texto](link)`, por ejemplo: [visita la siguiente liga](https://docs.pipz.com/central-de-ajuda/learning-center/guia-basico-de-markdown#open).\n",
    "- El texto en formato latex se encierra entre `$`, por ejemplo:\n",
    "$a^2 = b^2 + c^2$\n",
    "- El texto citado inicia con `>`\n",
    "> La vida es bella\n",
    "\n",
    "---"
   ]
  },
  {
   "cell_type": "markdown",
   "id": "b3a97279-cd55-4aed-a9c7-8a4a30ba688a",
   "metadata": {},
   "source": [
    "# Listas\n",
    "\n",
    "## Listas desordenadas\n",
    "\n",
    "Las **listas desordenadas** las podemos generar utilizando el simbolo `-` o `*` al inicio de cada linea\n",
    "- Elemento 1\n",
    "    - Elemento 1.1\n",
    "    - Elemento 1.2\n",
    "        - Elemento 1.2.1\n",
    "- Elemento 2\n",
    "- más...\n",
    "\n",
    "## Listas ordenadas\n",
    "Las **listas ordenadas** las podemos generar utilizando `1.` al inicio de cada linea\n",
    "1. Primer elemento\n",
    "    1. Primer subelemento\n",
    "    1. Segundo subelemento\n",
    "        1. Primer subsubelemento\n",
    "1. Segundo elemento\n",
    "1. más...\n",
    "\n",
    "## Lista de tareas\n",
    "Las **listas de tarea** las podemos generar utilizando al inicio de cada linea `- [ ]` para tareas sin terminar y `- [x]` para tareas terminadas\n",
    "- [x] Tarea terminada\n",
    "- [ ] Tarea no terminada\n",
    "\n",
    "---"
   ]
  },
  {
   "cell_type": "markdown",
   "id": "b80ae4c0-9f76-4512-b95c-9d8eef9f587c",
   "metadata": {},
   "source": [
    "# Tablas\n",
    "\n",
    "Podemos generar tablas separando las columnas con 'pipes': `|` y las filas con saltos de linea. Nota como el encabezado debe estar marcado con una fila con guiones medios.\n",
    "\n",
    "No | Alumno | Calificación\n",
    "-- | -- | :--:\n",
    "1 | Mauricio Sandoval | 10\n",
    "2 | Cecilia Hernández | 9\n",
    "3 | Gabriela | 10\n",
    "\n",
    "---"
   ]
  },
  {
   "cell_type": "markdown",
   "id": "77477574-24ef-46ff-bbc4-8a4bb3e81475",
   "metadata": {},
   "source": [
    "# Imágenes\n",
    "## Imágenes de sitios web\n",
    "Podemos insertar imágenes hospedadas en sitios web usando la siguiente sintáxis `[texto alt](link de la imagen)`, por ejemplo:\n",
    "\n",
    "![Imagen de ejemplo](https://external-content.duckduckgo.com/iu/?u=https%3A%2F%2Fwww.libertypuzzles.com%2Fuserfiles%2Fmedia%2Fimages%2F5229%2Fgreat-wave-image-1600-1.jpg&f=1&nofb=1)\n",
    "\n",
    "\n",
    "# Imágenes locales\n",
    "También podemos insertar imágenes ubicadas en el mismo directorio (o en algún subdirectorio) `[alt texto](nombre del archivo)`, por ejemplo:\n",
    "\n",
    "![Imagen de ejemplo](img/catrina.jpeg)"
   ]
  }
 ],
 "metadata": {
  "kernelspec": {
   "display_name": "Julia 1.6.4",
   "language": "julia",
   "name": "julia-1.6"
  },
  "language_info": {
   "file_extension": ".jl",
   "mimetype": "application/julia",
   "name": "julia",
   "version": "1.6.4"
  }
 },
 "nbformat": 4,
 "nbformat_minor": 5
}
