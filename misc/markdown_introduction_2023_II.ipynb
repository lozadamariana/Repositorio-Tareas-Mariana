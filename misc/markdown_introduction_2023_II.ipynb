{
 "cells": [
  {
   "cell_type": "markdown",
   "id": "6b8be1ee-e097-4641-b272-30604765105b",
   "metadata": {},
   "source": [
    "# Introducción a Markdown"
   ]
  },
  {
   "cell_type": "markdown",
   "id": "53dd49a9",
   "metadata": {},
   "source": [
    "Markdown es un lenguaje de formato de texto. Nació como herramienta de conversión de texto plano a HTML.\n",
    "\n",
    "[Más información sobre Markdown](https://markdown.es/)\n",
    "\n",
    "[¿Qué es HTML?](https://developer.mozilla.org/es/docs/Web/HTML)"
   ]
  },
  {
   "cell_type": "markdown",
   "id": "2816c093-2a30-45fe-99f4-4b504294b0ea",
   "metadata": {},
   "source": [
    "# Encabezados\n",
    "\n",
    "Las líneas de encabezados empiezan con `#`, por ejemplo:\n",
    "# Título\n",
    "## Subtítulo\n",
    "### Subsubtítulo\n",
    "\n",
    "También se pueden separar secciones utilizando tres guiones seguidos `---`:\n",
    "\n",
    "---"
   ]
  },
  {
   "cell_type": "markdown",
   "id": "3a424f23-3286-4f05-84e8-e85945009367",
   "metadata": {},
   "source": [
    "# Formato de Texto\n",
    "- El texto en formato de código se enciera entre comilla invertida, por ejemplo `texto de código`\n",
    "- Los bloques de código se encierra entre triple comilla invertida, por ejemplo:\n",
    "```\n",
    "def function(a, b)\n",
    "    return a + b\n",
    "end\n",
    "```\n",
    "- La cursiva se encierra entre `*` o `_`, por ejemplo: *letra en cursiva*\n",
    "- Las negritas se encierra entre `**` o `__`, por ejemplo: __letra en negritas__ **letra en negritas**\n",
    "- El texto tachado se encierra entre `~`, por ejemplo: ~texto tachado~\n",
    "- El texto subrayado se encierra entre `<u> </u>`, por ejemplo: <u>texto subrayado</u>\n",
    "- El texto hiperreferenciado se genera usando la siguiente sintáxis `[texto](link)`, por ejemplo: [visita la siguiente liga](https://docs.pipz.com/central-de-ajuda/learning-center/guia-basico-de-markdown#open).\n",
    "- El texto en formato latex se encierra entre `$`, por ejemplo:\n",
    "$a^2 = b^2 + c^2$\n",
    "- El texto citado inicia con `>`\n",
    "> La vida es bella\n",
    "\n",
    "---"
   ]
  },
  {
   "cell_type": "markdown",
   "id": "b3a97279-cd55-4aed-a9c7-8a4a30ba688a",
   "metadata": {},
   "source": [
    "# Listas\n",
    "\n",
    "## Listas desordenadas\n",
    "\n",
    "Las **listas desordenadas** las podemos generar utilizando el simbolo `-` o `*` al inicio de cada linea\n",
    "- Elemento 1\n",
    "    - Elemento 1.1\n",
    "    - Elemento 1.2\n",
    "        - Elemento 1.2.1\n",
    "            - Más listas\n",
    "- Elemento 2\n",
    "- más...\n",
    "\n",
    "## Listas ordenadas\n",
    "Las **listas ordenadas** las podemos generar utilizando `1.` al inicio de cada linea\n",
    "1. Primer elemento\n",
    "    1. Primer subelemento\n",
    "    1. Segundo subelemento\n",
    "        1. Primer subsubelemento\n",
    "1. Segundo elemento\n",
    "1. más...\n",
    "\n",
    "## Lista de tareas\n",
    "Las **listas de tarea** las podemos generar utilizando al inicio de cada linea `- [ ]` para tareas sin terminar y `- [x]` para tareas terminadas\n",
    "- [x] Tarea terminada\n",
    "- [ ] Tarea no terminada\n",
    "\n",
    "---"
   ]
  },
  {
   "cell_type": "markdown",
   "id": "b80ae4c0-9f76-4512-b95c-9d8eef9f587c",
   "metadata": {},
   "source": [
    "# Tablas\n",
    "\n",
    "Podemos generar tablas separando las columnas con 'pipes': `|` y las filas con saltos de linea. Nota como el encabezado debe estar marcado con una fila con guiones medios.\n",
    "\n",
    "No | Alumno | Calificación\n",
    "-- | -- | --\n",
    "1 | Mauricio Sandoval | 10\n",
    "2 | Juan Pablo Gamucero         | 9\n",
    "3 | Gabriela | 10\n",
    "\n",
    "[Herramienta útil para generar tablas](https://www.tablesgenerator.com/markdown_tables)\n",
    "\n",
    "Una tabla generada con la herramienta útil.\n",
    "\n",
    "| 12 | a | b | b | c |\n",
    "|----|---|---|---|---|\n",
    "| f  | d | d |   |   |\n",
    "|    |   | a |   |   |\n",
    "|    |   | s |   |   |\n",
    "\n",
    "---\n"
   ]
  },
  {
   "cell_type": "markdown",
   "id": "77477574-24ef-46ff-bbc4-8a4bb3e81475",
   "metadata": {},
   "source": [
    "# Imágenes\n",
    "## Imágenes de sitios web\n",
    "Podemos insertar imágenes hospedadas en sitios web usando la siguiente sintaxis `![texto alt](link de la imagen)`, por ejemplo:\n",
    "\n",
    "![Imagen de ejemplo](https://www.radioformula.com.mx/u/fotografias/m/2022/8/18/f804x452-599219_651152_87.jpg)"
   ]
  },
  {
   "cell_type": "markdown",
   "id": "eee3be9a",
   "metadata": {},
   "source": [
    "# Imágenes locales\n",
    "También podemos insertar imágenes ubicadas en el mismo directorio (o en algún subdirectorio) `[alt texto](nombre del archivo)`, por ejemplo:\n",
    "\n",
    "![Imagen de ejemplo](./img/descarga.jpg)"
   ]
  },
  {
   "cell_type": "markdown",
   "id": "4fd79d98",
   "metadata": {},
   "source": [
    "# Otra forma de agregar imágenes y leyendas/captions"
   ]
  },
  {
   "cell_type": "markdown",
   "id": "7890e72e",
   "metadata": {},
   "source": [
    "Una manera alternativa de agregar imágenes es la siguiente:\n",
    "\n",
    "        <img src = \"ruta_de_la_imagen\">\n",
    "Por ejemplo:\n",
    "<img src = \"img/descarga.jpg\">\n",
    "<figcaption> <center> Fig. 2 Facultad de Ciencias, Universidad Nacional Autónoma de México. </center> </figcaption>\n",
    "\n",
    "Notemos que la imagen anterior también tiene una leyenda. Esta está generada con el siguiente código Markdown:\n",
    "\n",
    "        <figcaption> <center> Fig. 2 Facultad de Ciencias, Universidad Nacional Autónoma de México. </center> </figcaption>\n"
   ]
  },
  {
   "cell_type": "markdown",
   "id": "f9430ec5",
   "metadata": {},
   "source": [
    "# Modificando el tamaño de las imágenes"
   ]
  },
  {
   "cell_type": "markdown",
   "id": "e597df6a",
   "metadata": {},
   "source": [
    "El tamaño de las imágenes puede modificarse si utilizamos la sintaxis anterior para agregar imágenes (`<img src = \"ruta_de_la_imagen\">`) más los atributos `width, height` como se muestra a continuación:\n",
    "\n",
    "        <img src = \"ruta_de_la_imagen\" width = \"500px\" height = \"200px\">\n",
    "        \n",
    "<img src = \"https://www.radioformula.com.mx/u/fotografias/m/2022/8/18/f804x452-599219_651152_87.jpg\" width = \"500px\" height = \"200px\">\n",
    "<figcaption> <center> Imagen en grande. </center> </figcaption>"
   ]
  },
  {
   "cell_type": "markdown",
   "id": "427190bf",
   "metadata": {},
   "source": [
    "\n",
    "<img src = \"https://www.radioformula.com.mx/u/fotografias/m/2022/8/18/f804x452-599219_651152_87.jpg\" width = \"100px\" height = \"50px\">\n",
    "<figcaption> <center> Imagen pequeña. </center> </figcaption>"
   ]
  },
  {
   "cell_type": "markdown",
   "id": "0e491c91",
   "metadata": {},
   "source": [
    "# Color de texto"
   ]
  },
  {
   "cell_type": "markdown",
   "id": "ed64fbb9",
   "metadata": {},
   "source": [
    "Para escribir texto en color hay que agregar el siguiente encabezado en la celda de Markdown `<font color = 'name_color'>`"
   ]
  },
  {
   "cell_type": "markdown",
   "id": "136a1ca5",
   "metadata": {},
   "source": [
    "<font color='red'>\n",
    "    \n",
    "Texto en rojo. \n",
    "\n",
    "<font color='orange'>\n",
    "    \n",
    "Texto en naranja. \n",
    "\n",
    "<font color='yellow'>\n",
    "    \n",
    "Texto en amarillo. \n",
    "\n",
    "<font color='green'>\n",
    "    \n",
    "Texto en verde. \n",
    "\n",
    "<font color='blue'>\n",
    "    \n",
    "Texto en azul. \n",
    "\n",
    "<font color='purple'>\n",
    "    \n",
    "Texto en morado.\n",
    "    \n",
    "A partir de aquí el texto sigue siendo morado. Incluso en listas y otras cosas:\n",
    "\n",
    "- Lista en\n",
    "- Morado"
   ]
  },
  {
   "cell_type": "markdown",
   "id": "d43291b9",
   "metadata": {},
   "source": [
    "# Tamaño con encabezados"
   ]
  },
  {
   "cell_type": "markdown",
   "id": "6c7c91d2",
   "metadata": {},
   "source": [
    "<font size=5>\n",
    "Otra forma de regular el tamaño de la fuente en la celda es con el encabezado \n",
    "        \n",
    "    <font size=tamaño>"
   ]
  },
  {
   "cell_type": "markdown",
   "id": "2afd6c48",
   "metadata": {},
   "source": [
    "# Bloques de código"
   ]
  },
  {
   "cell_type": "markdown",
   "id": "b980f939",
   "metadata": {},
   "source": [
    "Por último, una alternativa para escribir bloques de código es utilizando doble tabulación, por ejemplo:\n",
    "\n",
    "1. Abrir el archivo.\n",
    "2. Buscar el siguiente bloque de código en la línea 21:\n",
    "\n",
    "        <html>\n",
    "          <head>\n",
    "            <title>Test</title>\n",
    "          </head>\n",
    "          \n",
    "3. Actualizar el título del sitio web."
   ]
  }
 ],
 "metadata": {
  "kernelspec": {
   "display_name": "Julia 1.8.5",
   "language": "julia",
   "name": "julia-1.8"
  },
  "language_info": {
   "file_extension": ".jl",
   "mimetype": "application/julia",
   "name": "julia",
   "version": "1.8.5"
  }
 },
 "nbformat": 4,
 "nbformat_minor": 5
}
