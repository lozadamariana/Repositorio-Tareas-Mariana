{
 "cells": [
  {
   "cell_type": "markdown",
   "id": "97c713b1",
   "metadata": {},
   "source": [
    "# ¿Qué es un programa?\n",
    "\n",
    "En este curso, emplearemos la palabra **programa** para referirnos a un _programa computacional_, el cual podemos definir de forma general como un _conjunto de instrucciones que una computadora puede ejecutar o, en su defecto, interpretar_."
   ]
  },
  {
   "cell_type": "markdown",
   "id": "537e3007",
   "metadata": {},
   "source": [
    "**Pregunta** Considera los siguientes enunciados.\n",
    "1. ''Calcula cuántos átomos hay en el universo.'' \n",
    "1. ''Dime cuáles números enteros son mayores que uno y menores que cien.''\n",
    "1. ''Enumera todos los enteros positivos de menor a mayor.''\n",
    "1. ''Divide uno entre cero.''\n",
    "\n",
    "¿Cuál(es) enunciado(s) califica(n) como un programa y cuál(es) no, de acuerdo a la definición general anterior?"
   ]
  },
  {
   "cell_type": "markdown",
   "id": "0c10e082",
   "metadata": {},
   "source": [
    "A la tarea de crear programas computacionales que cumplan una función específica se le conoce como **programación**."
   ]
  },
  {
   "cell_type": "markdown",
   "id": "24c52a4e",
   "metadata": {},
   "source": [
    "## Paradigmas de la programación\n",
    "\n",
    "Existen muchas formas distintas de pensar la programación, que colectivamente se conocen como los **paradigmas de la programación**. Estos pueden tener diferentes enfoques que resulten ventajosos (o desventajosos) para distintos usos, y no necesariamente se excluyen entre sí. Algunos ejemplos de paradigmas son:\n",
    "* imperativo,\n",
    "* declarativo,\n",
    "* dinámico,\n",
    "* concurrente,\n",
    "* programación cuántica.\n",
    "\n",
    "En este curso, nos enfocaremos en el paradigma **imperativo**.\n",
    "\n",
    "**Nota** Existen algunos paradigmas que pueden implementarse como variaciones más específicas de otros ya existentes, por lo que se les considera también como _subparadigmas_. Por ejemplo, el paradigma de la **programación orientada a objetos** (OOP, por sus siglas en inglés) usualmente se considera como un subparadigma del paradigma imperativo, mientras que el paradigma de la programación funcional se considera un subparadigma del paradigma declarativo. Al final de este curso veremos una breve introducción a la programación orientada a objetos, puesto que es uno de los paradigmas más ampliamente utilizados actualmente. "
   ]
  },
  {
   "cell_type": "markdown",
   "id": "c6da5964",
   "metadata": {},
   "source": [
    "### Paradigma imperativo de la programación\n",
    "\n",
    "Dentro del **paradigma imperativo de la programación**, definiremos a un programa como una _**serie** de instrucciones que una computadora puede ejecutar o, en su defecto, interpretar_.\n",
    "\n",
    "Observemos que en nuestra nueva definición de _programa_ -dentro del paradigma imperativo- hablamos de una _serie_ de instrucciones en vez de un _conjunto_, como en la definición general que habíamos dado previamente. Esto es porque el paradigma **imperativo** de la programación se basa en dar **órdenes estrictas** a la computadora y que ésta las siga al pie de la letra; sin embargo, para lograrlo, no basta con dar instrucciones, sino que éstas deben tener una secuencia clara. Es decir, en el paradigma imperativo le decimos a la computadora _qué_ hacer y _cómo_ hacerlo, **removiendo toda ambigüedad** en el proceso.\n",
    "\n",
    "En este sentido, el enunciado 2 visto anteriormente no puede ser considerado como un programa, pues hay muchísimas maneras de ''decir cuáles números enteros son mayores que uno y menores que cien'', y el enunciado _no_ remueve esta ambigüedad especificando de qué forma debería hacerse. En cambio, los enunciados 3 y 4 sí son considerados programas, pues el 3 pide enumerar varios elementos pero especifica en qué orden hacerlo, y el 4 se reduce a una sola instrucción, por lo que no existe más que un orden posible en ese caso. Intentemos ahora ejecutar los enunciados 3 y 4 en las dos celdas siguientes, dando clic en algún lugar de la celda y presionando la combinación de teclas `Ctrl+Enter` por cada celda."
   ]
  },
  {
   "cell_type": "code",
   "execution_count": null,
   "id": "7abbc676",
   "metadata": {
    "scrolled": true
   },
   "outputs": [],
   "source": [
    "Enumera todos los números positivos de menor a mayor."
   ]
  },
  {
   "cell_type": "code",
   "execution_count": null,
   "id": "27a9dd5f",
   "metadata": {
    "scrolled": true
   },
   "outputs": [],
   "source": [
    "Divide uno entre cero."
   ]
  },
  {
   "cell_type": "markdown",
   "id": "280828d4",
   "metadata": {},
   "source": [
    "Observemos que en ninguno de los dos casos anteriores obtenemos el resultado que buscamos. Esto se debe a que la computadora no puede interpretar estos enunciados de la forma en que los escribimos; por ende, estrictamente hablando, los enunciados 3 y 4 _tampoco_ contarían como programas (en el paradigma imperativo)."
   ]
  },
  {
   "cell_type": "markdown",
   "id": "f5ac8ee1",
   "metadata": {},
   "source": [
    "## Código y pseudocódigo\n",
    "\n",
    "Para hacer más clara esta distinción, nos referiremos a un programa que puede ser ejecutado o al menos interpretado por una computadora, de acuerdo a la última definición que vimos, como un **código**. En cambio, a una serie de instrucciones que _podría_ ser ejecutada/interpretada por una computadora si se transformara en código pero que, _en su forma actual, sólo puede ser interpretada por seres humanos_ se le conoce como **pseudocódigo**.\n",
    "\n",
    "Por ejemplo, una forma de transformar el enunciado 4 a código es la siguiente:"
   ]
  },
  {
   "cell_type": "code",
   "execution_count": null,
   "id": "7ac2a841",
   "metadata": {
    "scrolled": true
   },
   "outputs": [],
   "source": [
    "1/0  # Divide uno entre cero."
   ]
  },
  {
   "cell_type": "markdown",
   "id": "346359f7",
   "metadata": {},
   "source": [
    "En cambio, si cambiamos el enunciado 2 a \"Dime cuáles números enteros son mayores que uno y menores que cien, ordenándolos de menor a mayor.\" obtenemos un programa que se puede implementar en código como sigue:"
   ]
  },
  {
   "cell_type": "code",
   "execution_count": null,
   "id": "81570fcd",
   "metadata": {
    "scrolled": false
   },
   "outputs": [],
   "source": [
    "#Imprime la frase \"Los números enteros mayores que uno y menores que cien, ordenados de menor a mayor, son:\" y crea una línea nueva.\n",
    "println(\"Los números enteros mayores que uno y menores que cien, ordenados de menor a mayor, son: \")\n",
    "\n",
    "for i in -100:100           #Para una variable 'i' que va de -100 a 100,\n",
    "    if (i > 1) & (i < 100)  #si la variable es mayor que uno y menor que cien,\n",
    "        println(i)          #imprime su valor y crea una línea nueva.\n",
    "    end\n",
    "end"
   ]
  },
  {
   "cell_type": "markdown",
   "id": "1f2e526c",
   "metadata": {},
   "source": [
    "Sin embargo, para poder **transformar pseudocódigo en código** necesitamos un **lenguaje de programación**, el cual tiene una **sintáxis** y una **semántica** propia. Más aún, para poder saber si la computadora puede ejecutar o al menos interpretar lo que le escribimos, debemos aprender a leer **mensajes de error**. Por ello, ¡estos son los temas que discutiremos en el siguiente _notebook_!\n",
    "\n",
    "**Nota** En el código pasado le ordenamos a la computadora considerar números enteros sólo entre -100 y 100. Esto es porque, dado que el conjunto $\\mathbb{Z}$ es infinito, considerar a _todos_ los números enteros le tomaría a la computadora una cantidad infinita de tiempo y de memoria."
   ]
  },
  {
   "cell_type": "markdown",
   "id": "d2df6803",
   "metadata": {},
   "source": [
    "#### Ejercicio\n",
    "\n",
    "Completa la siguiente tabla y argumenta tus respuestas debajo. (Nota: Recuerda que debes hacer doble clic en esta celda para editarla, y que en este curso siempre asumiremos que estamos trabajando dentro del paradigma imperativo de la programación.)\n",
    "\n",
    "|Enunciado|1|2|3|4|\n",
    "|-|-|-|-|-|\n",
    "|¿Es código?|NO|NO|NO|NO|\n",
    "|¿Es pseudocódigo?|SI|SI|SI|SI|\n",
    "\n",
    "Todos son pseudocodigos debido a que literal en la manera en la que estan escritos, la computadora no puede interpretare las indicaciones que les estamos dando, pero sin en cambio la opción 2 y 4, si se escriben adeacuadamente, pueden ser codigos, mientras que la opcion 1 y 3 serian no lo podrian ser. \n",
    "\n"
   ]
  },
  {
   "cell_type": "markdown",
   "id": "8a224f25",
   "metadata": {},
   "source": [
    "## Recursos complementarios\n",
    "* Página de Wikipedia sobre [paradigmas de la programación](https://en.wikipedia.org/wiki/Programming_paradigm)."
   ]
  },
  {
   "cell_type": "code",
   "execution_count": null,
   "id": "f8f5fbe5",
   "metadata": {},
   "outputs": [],
   "source": []
  }
 ],
 "metadata": {
  "kernelspec": {
   "display_name": "Julia 1.8.5",
   "language": "julia",
   "name": "julia-1.8"
  },
  "language_info": {
   "file_extension": ".jl",
   "mimetype": "application/julia",
   "name": "julia",
   "version": "1.8.5"
  }
 },
 "nbformat": 4,
 "nbformat_minor": 5
}
